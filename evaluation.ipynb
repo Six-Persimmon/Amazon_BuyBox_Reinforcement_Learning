{
 "cells": [
  {
   "cell_type": "markdown",
   "id": "1f25d2cb",
   "metadata": {},
   "source": [
    "In this script I evaluate the price and profit of each each competition scenario, as well as the rule based actions by the time of convergence."
   ]
  },
  {
   "cell_type": "code",
   "execution_count": null,
   "id": "741cf48c",
   "metadata": {},
   "outputs": [],
   "source": [
    "import pandas as pd\n",
    "import numpy as np\n",
    "import os\n",
    "import matplotlib.pyplot as plt\n",
    "DATA_DIR = './data'"
   ]
  },
  {
   "cell_type": "code",
   "execution_count": null,
   "id": "c3873104",
   "metadata": {},
   "outputs": [],
   "source": [
    "df_qq_price = pd.read_csv(os.path.join(DATA_DIR, 'q-learning-price-vs-q-learning-price-competition-price.csv')) # q learning vs q-learning, price history for 50 runs. Each run is a column\n",
    "df_qr_price\n"
   ]
  },
  {
   "cell_type": "markdown",
   "id": "c971c30b",
   "metadata": {},
   "source": []
  }
 ],
 "metadata": {
  "kernelspec": {
   "display_name": "reinforcement_learning",
   "language": "python",
   "name": "python3"
  },
  "language_info": {
   "name": "python",
   "version": "3.12.8"
  }
 },
 "nbformat": 4,
 "nbformat_minor": 5
}
