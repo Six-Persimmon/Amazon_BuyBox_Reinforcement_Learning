{
  "nbformat": 4,
  "nbformat_minor": 0,
  "metadata": {
    "colab": {
      "provenance": []
    },
    "kernelspec": {
      "name": "python3",
      "display_name": "Python 3"
    },
    "language_info": {
      "name": "python"
    }
  },
  "cells": [
    {
      "cell_type": "code",
      "execution_count": 1,
      "metadata": {
        "id": "yigBDZWlK2gc"
      },
      "outputs": [],
      "source": [
        "import pandas as pd\n",
        "import glob\n",
        "from pathlib import Path\n",
        "import numpy as np\n",
        "from sklearn.linear_model import LogisticRegression\n",
        "from sklearn.metrics import roc_auc_score, accuracy_score, classification_report\n",
        "from lightgbm import LGBMClassifier"
      ]
    },
    {
      "cell_type": "code",
      "source": [
        "from google.colab import drive\n",
        "drive.mount('/content/drive')"
      ],
      "metadata": {
        "colab": {
          "base_uri": "https://localhost:8080/"
        },
        "id": "eTP7krO9L6A8",
        "outputId": "383d4539-e2a3-4a4b-c4de-4c9adfea0fc5"
      },
      "execution_count": 2,
      "outputs": [
        {
          "output_type": "stream",
          "name": "stdout",
          "text": [
            "Mounted at /content/drive\n"
          ]
        }
      ]
    },
    {
      "cell_type": "code",
      "source": [
        "files = glob.glob('/content/drive/MyDrive/best_sellers_2000/amz_data_*_train.csv')\n",
        "\n",
        "dfs = []\n",
        "for f in files:\n",
        "    dfs.append(pd.read_csv(f, parse_dates=['time']))\n",
        "df = pd.concat(dfs, ignore_index=True)"
      ],
      "metadata": {
        "id": "VTQ0o7d6L728"
      },
      "execution_count": 3,
      "outputs": []
    },
    {
      "cell_type": "code",
      "source": [
        "df.head()"
      ],
      "metadata": {
        "colab": {
          "base_uri": "https://localhost:8080/",
          "height": 429
        },
        "id": "70aHkT0PMgTF",
        "outputId": "5739a80c-6ce4-4950-d042-a895444f0850"
      },
      "execution_count": 4,
      "outputs": [
        {
          "output_type": "execute_result",
          "data": {
            "text/plain": [
              "                 time        sellerId  hold_buybox  price  price_rank  \\\n",
              "0 2023-05-07 10:06:00  A2L77EE7U53NWQ            0  33.24         1.0   \n",
              "1 2023-05-26 13:40:00  A2L77EE7U53NWQ            0  31.25         1.0   \n",
              "2 2023-06-06 23:14:00  A2L77EE7U53NWQ            0  30.25         1.0   \n",
              "3 2023-06-08 19:20:00  A2L77EE7U53NWQ            0  29.25         1.0   \n",
              "4 2023-06-19 08:36:00  A2L77EE7U53NWQ            0  28.25         1.0   \n",
              "\n",
              "   price_diff  price_ratio  isFBA  isAmazon  condition  ...  \\\n",
              "0         0.0          1.0   True     False          2  ...   \n",
              "1         0.0          1.0   True     False          2  ...   \n",
              "2         0.0          1.0   True     False          2  ...   \n",
              "3         0.0          1.0   True     False          2  ...   \n",
              "4         0.0          1.0   True     False          2  ...   \n",
              "\n",
              "   avg_self_price_14d  avg_price_rank_14d  avg_asin_price_14d  \\\n",
              "0               33.24                 1.0              34.115   \n",
              "1               31.25                 1.0              33.120   \n",
              "2               30.75                 1.0              32.870   \n",
              "3               30.25                 1.0              32.620   \n",
              "4               29.25                 1.0              32.120   \n",
              "\n",
              "   avg_self_price_30d  avg_price_rank_30d  avg_asin_price_30d  \\\n",
              "0              33.240                 1.0             34.1150   \n",
              "1              32.245                 1.0             33.6175   \n",
              "2              30.750                 1.0             32.8700   \n",
              "3              30.250                 1.0             32.6200   \n",
              "4              29.750                 1.0             32.3700   \n",
              "\n",
              "   avg_self_price_60d  avg_price_rank_60d  avg_asin_price_60d        asin  \n",
              "0             33.2400                 1.0            34.11500  B09SBT92JH  \n",
              "1             32.2450                 1.0            33.61750  B09SBT92JH  \n",
              "2             31.5800                 1.0            33.28500  B09SBT92JH  \n",
              "3             30.9975                 1.0            32.99375  B09SBT92JH  \n",
              "4             30.4480                 1.0            32.71900  B09SBT92JH  \n",
              "\n",
              "[5 rows x 22 columns]"
            ],
            "text/html": [
              "\n",
              "  <div id=\"df-c7a8a38e-487e-4551-b0a7-b26f3fc483a3\" class=\"colab-df-container\">\n",
              "    <div>\n",
              "<style scoped>\n",
              "    .dataframe tbody tr th:only-of-type {\n",
              "        vertical-align: middle;\n",
              "    }\n",
              "\n",
              "    .dataframe tbody tr th {\n",
              "        vertical-align: top;\n",
              "    }\n",
              "\n",
              "    .dataframe thead th {\n",
              "        text-align: right;\n",
              "    }\n",
              "</style>\n",
              "<table border=\"1\" class=\"dataframe\">\n",
              "  <thead>\n",
              "    <tr style=\"text-align: right;\">\n",
              "      <th></th>\n",
              "      <th>time</th>\n",
              "      <th>sellerId</th>\n",
              "      <th>hold_buybox</th>\n",
              "      <th>price</th>\n",
              "      <th>price_rank</th>\n",
              "      <th>price_diff</th>\n",
              "      <th>price_ratio</th>\n",
              "      <th>isFBA</th>\n",
              "      <th>isAmazon</th>\n",
              "      <th>condition</th>\n",
              "      <th>...</th>\n",
              "      <th>avg_self_price_14d</th>\n",
              "      <th>avg_price_rank_14d</th>\n",
              "      <th>avg_asin_price_14d</th>\n",
              "      <th>avg_self_price_30d</th>\n",
              "      <th>avg_price_rank_30d</th>\n",
              "      <th>avg_asin_price_30d</th>\n",
              "      <th>avg_self_price_60d</th>\n",
              "      <th>avg_price_rank_60d</th>\n",
              "      <th>avg_asin_price_60d</th>\n",
              "      <th>asin</th>\n",
              "    </tr>\n",
              "  </thead>\n",
              "  <tbody>\n",
              "    <tr>\n",
              "      <th>0</th>\n",
              "      <td>2023-05-07 10:06:00</td>\n",
              "      <td>A2L77EE7U53NWQ</td>\n",
              "      <td>0</td>\n",
              "      <td>33.24</td>\n",
              "      <td>1.0</td>\n",
              "      <td>0.0</td>\n",
              "      <td>1.0</td>\n",
              "      <td>True</td>\n",
              "      <td>False</td>\n",
              "      <td>2</td>\n",
              "      <td>...</td>\n",
              "      <td>33.24</td>\n",
              "      <td>1.0</td>\n",
              "      <td>34.115</td>\n",
              "      <td>33.240</td>\n",
              "      <td>1.0</td>\n",
              "      <td>34.1150</td>\n",
              "      <td>33.2400</td>\n",
              "      <td>1.0</td>\n",
              "      <td>34.11500</td>\n",
              "      <td>B09SBT92JH</td>\n",
              "    </tr>\n",
              "    <tr>\n",
              "      <th>1</th>\n",
              "      <td>2023-05-26 13:40:00</td>\n",
              "      <td>A2L77EE7U53NWQ</td>\n",
              "      <td>0</td>\n",
              "      <td>31.25</td>\n",
              "      <td>1.0</td>\n",
              "      <td>0.0</td>\n",
              "      <td>1.0</td>\n",
              "      <td>True</td>\n",
              "      <td>False</td>\n",
              "      <td>2</td>\n",
              "      <td>...</td>\n",
              "      <td>31.25</td>\n",
              "      <td>1.0</td>\n",
              "      <td>33.120</td>\n",
              "      <td>32.245</td>\n",
              "      <td>1.0</td>\n",
              "      <td>33.6175</td>\n",
              "      <td>32.2450</td>\n",
              "      <td>1.0</td>\n",
              "      <td>33.61750</td>\n",
              "      <td>B09SBT92JH</td>\n",
              "    </tr>\n",
              "    <tr>\n",
              "      <th>2</th>\n",
              "      <td>2023-06-06 23:14:00</td>\n",
              "      <td>A2L77EE7U53NWQ</td>\n",
              "      <td>0</td>\n",
              "      <td>30.25</td>\n",
              "      <td>1.0</td>\n",
              "      <td>0.0</td>\n",
              "      <td>1.0</td>\n",
              "      <td>True</td>\n",
              "      <td>False</td>\n",
              "      <td>2</td>\n",
              "      <td>...</td>\n",
              "      <td>30.75</td>\n",
              "      <td>1.0</td>\n",
              "      <td>32.870</td>\n",
              "      <td>30.750</td>\n",
              "      <td>1.0</td>\n",
              "      <td>32.8700</td>\n",
              "      <td>31.5800</td>\n",
              "      <td>1.0</td>\n",
              "      <td>33.28500</td>\n",
              "      <td>B09SBT92JH</td>\n",
              "    </tr>\n",
              "    <tr>\n",
              "      <th>3</th>\n",
              "      <td>2023-06-08 19:20:00</td>\n",
              "      <td>A2L77EE7U53NWQ</td>\n",
              "      <td>0</td>\n",
              "      <td>29.25</td>\n",
              "      <td>1.0</td>\n",
              "      <td>0.0</td>\n",
              "      <td>1.0</td>\n",
              "      <td>True</td>\n",
              "      <td>False</td>\n",
              "      <td>2</td>\n",
              "      <td>...</td>\n",
              "      <td>30.25</td>\n",
              "      <td>1.0</td>\n",
              "      <td>32.620</td>\n",
              "      <td>30.250</td>\n",
              "      <td>1.0</td>\n",
              "      <td>32.6200</td>\n",
              "      <td>30.9975</td>\n",
              "      <td>1.0</td>\n",
              "      <td>32.99375</td>\n",
              "      <td>B09SBT92JH</td>\n",
              "    </tr>\n",
              "    <tr>\n",
              "      <th>4</th>\n",
              "      <td>2023-06-19 08:36:00</td>\n",
              "      <td>A2L77EE7U53NWQ</td>\n",
              "      <td>0</td>\n",
              "      <td>28.25</td>\n",
              "      <td>1.0</td>\n",
              "      <td>0.0</td>\n",
              "      <td>1.0</td>\n",
              "      <td>True</td>\n",
              "      <td>False</td>\n",
              "      <td>2</td>\n",
              "      <td>...</td>\n",
              "      <td>29.25</td>\n",
              "      <td>1.0</td>\n",
              "      <td>32.120</td>\n",
              "      <td>29.750</td>\n",
              "      <td>1.0</td>\n",
              "      <td>32.3700</td>\n",
              "      <td>30.4480</td>\n",
              "      <td>1.0</td>\n",
              "      <td>32.71900</td>\n",
              "      <td>B09SBT92JH</td>\n",
              "    </tr>\n",
              "  </tbody>\n",
              "</table>\n",
              "<p>5 rows × 22 columns</p>\n",
              "</div>\n",
              "    <div class=\"colab-df-buttons\">\n",
              "\n",
              "  <div class=\"colab-df-container\">\n",
              "    <button class=\"colab-df-convert\" onclick=\"convertToInteractive('df-c7a8a38e-487e-4551-b0a7-b26f3fc483a3')\"\n",
              "            title=\"Convert this dataframe to an interactive table.\"\n",
              "            style=\"display:none;\">\n",
              "\n",
              "  <svg xmlns=\"http://www.w3.org/2000/svg\" height=\"24px\" viewBox=\"0 -960 960 960\">\n",
              "    <path d=\"M120-120v-720h720v720H120Zm60-500h600v-160H180v160Zm220 220h160v-160H400v160Zm0 220h160v-160H400v160ZM180-400h160v-160H180v160Zm440 0h160v-160H620v160ZM180-180h160v-160H180v160Zm440 0h160v-160H620v160Z\"/>\n",
              "  </svg>\n",
              "    </button>\n",
              "\n",
              "  <style>\n",
              "    .colab-df-container {\n",
              "      display:flex;\n",
              "      gap: 12px;\n",
              "    }\n",
              "\n",
              "    .colab-df-convert {\n",
              "      background-color: #E8F0FE;\n",
              "      border: none;\n",
              "      border-radius: 50%;\n",
              "      cursor: pointer;\n",
              "      display: none;\n",
              "      fill: #1967D2;\n",
              "      height: 32px;\n",
              "      padding: 0 0 0 0;\n",
              "      width: 32px;\n",
              "    }\n",
              "\n",
              "    .colab-df-convert:hover {\n",
              "      background-color: #E2EBFA;\n",
              "      box-shadow: 0px 1px 2px rgba(60, 64, 67, 0.3), 0px 1px 3px 1px rgba(60, 64, 67, 0.15);\n",
              "      fill: #174EA6;\n",
              "    }\n",
              "\n",
              "    .colab-df-buttons div {\n",
              "      margin-bottom: 4px;\n",
              "    }\n",
              "\n",
              "    [theme=dark] .colab-df-convert {\n",
              "      background-color: #3B4455;\n",
              "      fill: #D2E3FC;\n",
              "    }\n",
              "\n",
              "    [theme=dark] .colab-df-convert:hover {\n",
              "      background-color: #434B5C;\n",
              "      box-shadow: 0px 1px 3px 1px rgba(0, 0, 0, 0.15);\n",
              "      filter: drop-shadow(0px 1px 2px rgba(0, 0, 0, 0.3));\n",
              "      fill: #FFFFFF;\n",
              "    }\n",
              "  </style>\n",
              "\n",
              "    <script>\n",
              "      const buttonEl =\n",
              "        document.querySelector('#df-c7a8a38e-487e-4551-b0a7-b26f3fc483a3 button.colab-df-convert');\n",
              "      buttonEl.style.display =\n",
              "        google.colab.kernel.accessAllowed ? 'block' : 'none';\n",
              "\n",
              "      async function convertToInteractive(key) {\n",
              "        const element = document.querySelector('#df-c7a8a38e-487e-4551-b0a7-b26f3fc483a3');\n",
              "        const dataTable =\n",
              "          await google.colab.kernel.invokeFunction('convertToInteractive',\n",
              "                                                    [key], {});\n",
              "        if (!dataTable) return;\n",
              "\n",
              "        const docLinkHtml = 'Like what you see? Visit the ' +\n",
              "          '<a target=\"_blank\" href=https://colab.research.google.com/notebooks/data_table.ipynb>data table notebook</a>'\n",
              "          + ' to learn more about interactive tables.';\n",
              "        element.innerHTML = '';\n",
              "        dataTable['output_type'] = 'display_data';\n",
              "        await google.colab.output.renderOutput(dataTable, element);\n",
              "        const docLink = document.createElement('div');\n",
              "        docLink.innerHTML = docLinkHtml;\n",
              "        element.appendChild(docLink);\n",
              "      }\n",
              "    </script>\n",
              "  </div>\n",
              "\n",
              "\n",
              "    <div id=\"df-0bd65df2-ce6d-422e-b083-cf5710cecc36\">\n",
              "      <button class=\"colab-df-quickchart\" onclick=\"quickchart('df-0bd65df2-ce6d-422e-b083-cf5710cecc36')\"\n",
              "                title=\"Suggest charts\"\n",
              "                style=\"display:none;\">\n",
              "\n",
              "<svg xmlns=\"http://www.w3.org/2000/svg\" height=\"24px\"viewBox=\"0 0 24 24\"\n",
              "     width=\"24px\">\n",
              "    <g>\n",
              "        <path d=\"M19 3H5c-1.1 0-2 .9-2 2v14c0 1.1.9 2 2 2h14c1.1 0 2-.9 2-2V5c0-1.1-.9-2-2-2zM9 17H7v-7h2v7zm4 0h-2V7h2v10zm4 0h-2v-4h2v4z\"/>\n",
              "    </g>\n",
              "</svg>\n",
              "      </button>\n",
              "\n",
              "<style>\n",
              "  .colab-df-quickchart {\n",
              "      --bg-color: #E8F0FE;\n",
              "      --fill-color: #1967D2;\n",
              "      --hover-bg-color: #E2EBFA;\n",
              "      --hover-fill-color: #174EA6;\n",
              "      --disabled-fill-color: #AAA;\n",
              "      --disabled-bg-color: #DDD;\n",
              "  }\n",
              "\n",
              "  [theme=dark] .colab-df-quickchart {\n",
              "      --bg-color: #3B4455;\n",
              "      --fill-color: #D2E3FC;\n",
              "      --hover-bg-color: #434B5C;\n",
              "      --hover-fill-color: #FFFFFF;\n",
              "      --disabled-bg-color: #3B4455;\n",
              "      --disabled-fill-color: #666;\n",
              "  }\n",
              "\n",
              "  .colab-df-quickchart {\n",
              "    background-color: var(--bg-color);\n",
              "    border: none;\n",
              "    border-radius: 50%;\n",
              "    cursor: pointer;\n",
              "    display: none;\n",
              "    fill: var(--fill-color);\n",
              "    height: 32px;\n",
              "    padding: 0;\n",
              "    width: 32px;\n",
              "  }\n",
              "\n",
              "  .colab-df-quickchart:hover {\n",
              "    background-color: var(--hover-bg-color);\n",
              "    box-shadow: 0 1px 2px rgba(60, 64, 67, 0.3), 0 1px 3px 1px rgba(60, 64, 67, 0.15);\n",
              "    fill: var(--button-hover-fill-color);\n",
              "  }\n",
              "\n",
              "  .colab-df-quickchart-complete:disabled,\n",
              "  .colab-df-quickchart-complete:disabled:hover {\n",
              "    background-color: var(--disabled-bg-color);\n",
              "    fill: var(--disabled-fill-color);\n",
              "    box-shadow: none;\n",
              "  }\n",
              "\n",
              "  .colab-df-spinner {\n",
              "    border: 2px solid var(--fill-color);\n",
              "    border-color: transparent;\n",
              "    border-bottom-color: var(--fill-color);\n",
              "    animation:\n",
              "      spin 1s steps(1) infinite;\n",
              "  }\n",
              "\n",
              "  @keyframes spin {\n",
              "    0% {\n",
              "      border-color: transparent;\n",
              "      border-bottom-color: var(--fill-color);\n",
              "      border-left-color: var(--fill-color);\n",
              "    }\n",
              "    20% {\n",
              "      border-color: transparent;\n",
              "      border-left-color: var(--fill-color);\n",
              "      border-top-color: var(--fill-color);\n",
              "    }\n",
              "    30% {\n",
              "      border-color: transparent;\n",
              "      border-left-color: var(--fill-color);\n",
              "      border-top-color: var(--fill-color);\n",
              "      border-right-color: var(--fill-color);\n",
              "    }\n",
              "    40% {\n",
              "      border-color: transparent;\n",
              "      border-right-color: var(--fill-color);\n",
              "      border-top-color: var(--fill-color);\n",
              "    }\n",
              "    60% {\n",
              "      border-color: transparent;\n",
              "      border-right-color: var(--fill-color);\n",
              "    }\n",
              "    80% {\n",
              "      border-color: transparent;\n",
              "      border-right-color: var(--fill-color);\n",
              "      border-bottom-color: var(--fill-color);\n",
              "    }\n",
              "    90% {\n",
              "      border-color: transparent;\n",
              "      border-bottom-color: var(--fill-color);\n",
              "    }\n",
              "  }\n",
              "</style>\n",
              "\n",
              "      <script>\n",
              "        async function quickchart(key) {\n",
              "          const quickchartButtonEl =\n",
              "            document.querySelector('#' + key + ' button');\n",
              "          quickchartButtonEl.disabled = true;  // To prevent multiple clicks.\n",
              "          quickchartButtonEl.classList.add('colab-df-spinner');\n",
              "          try {\n",
              "            const charts = await google.colab.kernel.invokeFunction(\n",
              "                'suggestCharts', [key], {});\n",
              "          } catch (error) {\n",
              "            console.error('Error during call to suggestCharts:', error);\n",
              "          }\n",
              "          quickchartButtonEl.classList.remove('colab-df-spinner');\n",
              "          quickchartButtonEl.classList.add('colab-df-quickchart-complete');\n",
              "        }\n",
              "        (() => {\n",
              "          let quickchartButtonEl =\n",
              "            document.querySelector('#df-0bd65df2-ce6d-422e-b083-cf5710cecc36 button');\n",
              "          quickchartButtonEl.style.display =\n",
              "            google.colab.kernel.accessAllowed ? 'block' : 'none';\n",
              "        })();\n",
              "      </script>\n",
              "    </div>\n",
              "\n",
              "    </div>\n",
              "  </div>\n"
            ],
            "application/vnd.google.colaboratory.intrinsic+json": {
              "type": "dataframe",
              "variable_name": "df"
            }
          },
          "metadata": {},
          "execution_count": 4
        }
      ]
    },
    {
      "cell_type": "code",
      "source": [
        "df.info()"
      ],
      "metadata": {
        "colab": {
          "base_uri": "https://localhost:8080/"
        },
        "id": "vW_Qbv5AMjhu",
        "outputId": "21c56c1b-7261-446b-fa5d-8b36f09918c4"
      },
      "execution_count": 5,
      "outputs": [
        {
          "output_type": "stream",
          "name": "stdout",
          "text": [
            "<class 'pandas.core.frame.DataFrame'>\n",
            "RangeIndex: 1431025 entries, 0 to 1431024\n",
            "Data columns (total 22 columns):\n",
            " #   Column              Non-Null Count    Dtype         \n",
            "---  ------              --------------    -----         \n",
            " 0   time                1431025 non-null  datetime64[ns]\n",
            " 1   sellerId            1431025 non-null  object        \n",
            " 2   hold_buybox         1431025 non-null  int64         \n",
            " 3   price               1431025 non-null  float64       \n",
            " 4   price_rank          1431025 non-null  float64       \n",
            " 5   price_diff          1431025 non-null  float64       \n",
            " 6   price_ratio         1431025 non-null  float64       \n",
            " 7   isFBA               1431025 non-null  bool          \n",
            " 8   isAmazon            1431025 non-null  bool          \n",
            " 9   condition           1431025 non-null  int64         \n",
            " 10  num_competitors     1431025 non-null  int64         \n",
            " 11  sales_rank          1431011 non-null  float64       \n",
            " 12  avg_self_price_14d  1431025 non-null  float64       \n",
            " 13  avg_price_rank_14d  1431025 non-null  float64       \n",
            " 14  avg_asin_price_14d  1431025 non-null  float64       \n",
            " 15  avg_self_price_30d  1431025 non-null  float64       \n",
            " 16  avg_price_rank_30d  1431025 non-null  float64       \n",
            " 17  avg_asin_price_30d  1431025 non-null  float64       \n",
            " 18  avg_self_price_60d  1431025 non-null  float64       \n",
            " 19  avg_price_rank_60d  1431025 non-null  float64       \n",
            " 20  avg_asin_price_60d  1431025 non-null  float64       \n",
            " 21  asin                1431025 non-null  object        \n",
            "dtypes: bool(2), datetime64[ns](1), float64(14), int64(3), object(2)\n",
            "memory usage: 221.1+ MB\n"
          ]
        }
      ]
    },
    {
      "cell_type": "code",
      "source": [
        "# Missing values\n",
        "print(df.isna().sum().loc[lambda s: s>0])\n",
        "\n",
        "# balance check\n",
        "print(df['hold_buybox'].value_counts(normalize=True))\n",
        "\n",
        "# Time range\n",
        "print(\"Time span:\", df['time'].min(), \"→\", df['time'].max())\n",
        "\n",
        "# Unique counts\n",
        "print(\"#ASINs:\", df['asin'].nunique())\n",
        "print(\"#Sellers:\", df['sellerId'].nunique())\n",
        "\n",
        "# Drop Duplicates\n",
        "df = df.dropna(subset=['sales_rank'])"
      ],
      "metadata": {
        "colab": {
          "base_uri": "https://localhost:8080/"
        },
        "id": "wS2nahJVMvxA",
        "outputId": "b24316c7-d3b1-4420-f481-391e1a61a2bd"
      },
      "execution_count": 6,
      "outputs": [
        {
          "output_type": "stream",
          "name": "stdout",
          "text": [
            "sales_rank    14\n",
            "dtype: int64\n",
            "hold_buybox\n",
            "0    0.980334\n",
            "1    0.019666\n",
            "Name: proportion, dtype: float64\n",
            "Time span: 2017-02-16 14:20:00 → 2024-12-06 19:08:00\n",
            "#ASINs: 35\n",
            "#Sellers: 450\n"
          ]
        }
      ]
    },
    {
      "cell_type": "code",
      "source": [
        "# Adding time-based features\n",
        "df['year']    = df['time'].dt.year.astype('uint16')\n",
        "df['month']   = df['time'].dt.month.astype('uint8')\n",
        "df['day']     = df['time'].dt.day.astype('uint8')\n",
        "df['hour']    = df['time'].dt.hour.astype('uint8')\n",
        "df['weekday'] = df['time'].dt.weekday.astype('uint8')  # Monday=0"
      ],
      "metadata": {
        "id": "Fm6kMuDXM3h-"
      },
      "execution_count": 7,
      "outputs": []
    },
    {
      "cell_type": "code",
      "source": [
        "# One-hot code for conditions\n",
        "cond_dummies = pd.get_dummies(df['condition'], prefix='cond', dtype='uint8')\n",
        "df = pd.concat([df, cond_dummies], axis=1)\n",
        "\n",
        "df = df.drop(columns=['condition'])"
      ],
      "metadata": {
        "id": "C4klm-AKNC2O"
      },
      "execution_count": 8,
      "outputs": []
    },
    {
      "cell_type": "code",
      "source": [
        "df.info()"
      ],
      "metadata": {
        "colab": {
          "base_uri": "https://localhost:8080/"
        },
        "id": "JCekmneuNUth",
        "outputId": "e4f33118-a79f-47e5-8e8b-686efd2690f4"
      },
      "execution_count": 9,
      "outputs": [
        {
          "output_type": "stream",
          "name": "stdout",
          "text": [
            "<class 'pandas.core.frame.DataFrame'>\n",
            "Index: 1431011 entries, 0 to 1431024\n",
            "Data columns (total 33 columns):\n",
            " #   Column              Non-Null Count    Dtype         \n",
            "---  ------              --------------    -----         \n",
            " 0   time                1431011 non-null  datetime64[ns]\n",
            " 1   sellerId            1431011 non-null  object        \n",
            " 2   hold_buybox         1431011 non-null  int64         \n",
            " 3   price               1431011 non-null  float64       \n",
            " 4   price_rank          1431011 non-null  float64       \n",
            " 5   price_diff          1431011 non-null  float64       \n",
            " 6   price_ratio         1431011 non-null  float64       \n",
            " 7   isFBA               1431011 non-null  bool          \n",
            " 8   isAmazon            1431011 non-null  bool          \n",
            " 9   num_competitors     1431011 non-null  int64         \n",
            " 10  sales_rank          1431011 non-null  float64       \n",
            " 11  avg_self_price_14d  1431011 non-null  float64       \n",
            " 12  avg_price_rank_14d  1431011 non-null  float64       \n",
            " 13  avg_asin_price_14d  1431011 non-null  float64       \n",
            " 14  avg_self_price_30d  1431011 non-null  float64       \n",
            " 15  avg_price_rank_30d  1431011 non-null  float64       \n",
            " 16  avg_asin_price_30d  1431011 non-null  float64       \n",
            " 17  avg_self_price_60d  1431011 non-null  float64       \n",
            " 18  avg_price_rank_60d  1431011 non-null  float64       \n",
            " 19  avg_asin_price_60d  1431011 non-null  float64       \n",
            " 20  asin                1431011 non-null  object        \n",
            " 21  year                1431011 non-null  uint16        \n",
            " 22  month               1431011 non-null  uint8         \n",
            " 23  day                 1431011 non-null  uint8         \n",
            " 24  hour                1431011 non-null  uint8         \n",
            " 25  weekday             1431011 non-null  uint8         \n",
            " 26  cond_1              1431011 non-null  uint8         \n",
            " 27  cond_2              1431011 non-null  uint8         \n",
            " 28  cond_3              1431011 non-null  uint8         \n",
            " 29  cond_4              1431011 non-null  uint8         \n",
            " 30  cond_5              1431011 non-null  uint8         \n",
            " 31  cond_6              1431011 non-null  uint8         \n",
            " 32  cond_7              1431011 non-null  uint8         \n",
            "dtypes: bool(2), datetime64[ns](1), float64(14), int64(2), object(2), uint16(1), uint8(11)\n",
            "memory usage: 238.8+ MB\n"
          ]
        }
      ]
    },
    {
      "cell_type": "markdown",
      "source": [
        "## Feature selection"
      ],
      "metadata": {
        "id": "3217T1OhNgDy"
      }
    },
    {
      "cell_type": "code",
      "source": [
        "features = [\n",
        "    # raw\n",
        "    'price','price_rank','price_diff','price_ratio',\n",
        "    'num_competitors','sales_rank',\n",
        "    # rolling\n",
        "    'avg_self_price_14d','avg_price_rank_14d','avg_asin_price_14d',\n",
        "    'avg_self_price_30d','avg_price_rank_30d','avg_asin_price_30d',\n",
        "    'avg_self_price_60d','avg_price_rank_60d','avg_asin_price_60d',\n",
        "    # time\n",
        "    'year','month','day','hour','weekday',\n",
        "    # flags\n",
        "    'isFBA','isAmazon',\n",
        "    # condition one-hots\n",
        "    'cond_1','cond_2','cond_3','cond_4','cond_5',\n",
        "    'cond_7',\n",
        "    #'sellerId','asin'\n",
        "]"
      ],
      "metadata": {
        "id": "0azAF13GNihM"
      },
      "execution_count": 10,
      "outputs": []
    },
    {
      "cell_type": "markdown",
      "source": [
        "## Benchmark"
      ],
      "metadata": {
        "id": "Au9l_8JQsXwl"
      }
    },
    {
      "cell_type": "code",
      "source": [
        "df['num_competitors'] = (\n",
        "    df\n",
        "    .groupby(['asin','time'])['sellerId']\n",
        "    .transform('nunique')\n",
        ")\n",
        "\n",
        "# baseline：最低价预测赢\n",
        "baseline_pred = (df['price_rank'] == 1).astype(int)"
      ],
      "metadata": {
        "id": "pg1HCnKrsXKU"
      },
      "execution_count": 11,
      "outputs": []
    },
    {
      "cell_type": "code",
      "source": [
        "from sklearn.metrics import precision_score, recall_score, f1_score\n",
        "\n",
        "y_true = df['hold_buybox']\n",
        "y_pred = baseline_pred\n",
        "\n",
        "prec = precision_score(y_true, y_pred, pos_label=1)\n",
        "rec  = recall_score(y_true, y_pred, pos_label=1)\n",
        "f1   = f1_score(y_true, y_pred, pos_label=1)\n",
        "\n",
        "print(f\"Baseline 精确率 (precision): {prec:.3%}\")\n",
        "print(f\"Baseline 召回率 (recall)    : {rec:.3%}\")\n",
        "print(f\"Baseline F1               : {f1:.3%}\")"
      ],
      "metadata": {
        "colab": {
          "base_uri": "https://localhost:8080/"
        },
        "id": "6KeJvnHks2Wz",
        "outputId": "46459934-48dd-4036-b922-bc139dcfd06f"
      },
      "execution_count": 14,
      "outputs": [
        {
          "output_type": "stream",
          "name": "stdout",
          "text": [
            "Baseline 精确率 (precision): 34.085%\n",
            "Baseline 召回率 (recall)    : 35.444%\n",
            "Baseline F1               : 34.751%\n"
          ]
        }
      ]
    },
    {
      "cell_type": "markdown",
      "source": [
        "## Train-test split"
      ],
      "metadata": {
        "id": "yDgXZeMEN6I2"
      }
    },
    {
      "cell_type": "code",
      "source": [
        "# 1. Sort by time and define split points\n",
        "df = df.sort_values('time')\n",
        "train_end = df['time'].quantile(0.70)\n",
        "val_end   = df['time'].quantile(0.85)\n",
        "\n",
        "train = df[df['time'] <= train_end]\n",
        "val   = df[(df['time'] > train_end) & (df['time'] <= val_end)]\n",
        "test  = df[df['time'] > val_end]"
      ],
      "metadata": {
        "id": "gbe_4fMjN35g"
      },
      "execution_count": 15,
      "outputs": []
    },
    {
      "cell_type": "code",
      "source": [
        "X_train, y_train = train[features], train['hold_buybox']\n",
        "X_val,   y_val   = val[features],   val['hold_buybox']\n",
        "X_test,  y_test  = test[features],  test['hold_buybox']"
      ],
      "metadata": {
        "id": "wphvfMBiN_wK"
      },
      "execution_count": 16,
      "outputs": []
    },
    {
      "cell_type": "code",
      "source": [
        "for name, split in [('train', train), ('val', val), ('test', test)]:\n",
        "    counts = split['hold_buybox'].value_counts().sort_index()\n",
        "    zeros = counts.get(0, 0)\n",
        "    ones  = counts.get(1, 0)\n",
        "    total = len(split)\n",
        "    print(f\"{name.upper():5s}: 0 → {zeros} ({zeros/total:.1%}),  1 → {ones} ({ones/total:.1%})\")"
      ],
      "metadata": {
        "colab": {
          "base_uri": "https://localhost:8080/"
        },
        "id": "4i8KHDleKjXB",
        "outputId": "bdf43da2-ae7b-4b3a-c22d-9c7655c9bf90"
      },
      "execution_count": 17,
      "outputs": [
        {
          "output_type": "stream",
          "name": "stdout",
          "text": [
            "TRAIN: 0 → 980361 (97.9%),  1 → 21385 (2.1%)\n",
            "VAL  : 0 → 211212 (98.4%),  1 → 3483 (1.6%)\n",
            "TEST : 0 → 211309 (98.5%),  1 → 3261 (1.5%)\n"
          ]
        }
      ]
    },
    {
      "cell_type": "markdown",
      "source": [
        "## Modeling"
      ],
      "metadata": {
        "id": "_ELdWgF5OGEu"
      }
    },
    {
      "cell_type": "code",
      "source": [
        "from sklearn.impute import SimpleImputer\n",
        "from sklearn.pipeline import make_pipeline\n",
        "from sklearn.ensemble import RandomForestClassifier, HistGradientBoostingClassifier\n",
        "from xgboost import XGBClassifier\n",
        "from imblearn.ensemble import BalancedRandomForestClassifier\n",
        "from sklearn.metrics import classification_report, roc_auc_score, precision_recall_curve,confusion_matrix"
      ],
      "metadata": {
        "id": "IlTZUuyEOBgE"
      },
      "execution_count": 18,
      "outputs": []
    },
    {
      "cell_type": "code",
      "source": [
        "models = {\n",
        "    \"RF (balanced)\": RandomForestClassifier(\n",
        "        n_estimators=100, max_depth=10,\n",
        "        class_weight=\"balanced\", n_jobs=-1, random_state=42),\n",
        "    \"HistGB\": HistGradientBoostingClassifier(\n",
        "        max_iter=200, random_state=42),\n",
        "    \"BalancedRF\": BalancedRandomForestClassifier(\n",
        "        n_estimators=100, sampling_strategy=\"auto\", random_state=42),\n",
        "    \"XGBoost\": XGBClassifier(\n",
        "        n_estimators=200, max_depth=6,\n",
        "        scale_pos_weight=(y_train==0).sum()/(y_train==1).sum(),\n",
        "        use_label_encoder=False, eval_metric=\"auc\",\n",
        "        n_jobs=-1, random_state=42),\n",
        "}\n",
        "\n",
        "for name, clf in models.items():\n",
        "    print(f\"\\n=== {name} ===\")\n",
        "    # pipeline to impute any NaNs\n",
        "    pipe = make_pipeline(SimpleImputer(strategy=\"median\"), clf)\n",
        "    pipe.fit(X_train[features], y_train)\n",
        "\n",
        "    # Validation metrics\n",
        "    probs = pipe.predict_proba(X_val[features])[:,1]\n",
        "    preds = (probs >= 0.5).astype(int)\n",
        "    print(\"Val ROC-AUC:\", roc_auc_score(y_val, probs))\n",
        "    print(classification_report(y_val, preds, digits=3))\n",
        "\n",
        "    # Tune threshold for better precision/recall\n",
        "    prec, rec, thr = precision_recall_curve(y_val, probs)\n",
        "    for target_prec in [0.2, 0.5, 0.8]:\n",
        "        idx = np.argmax(prec >= target_prec)\n",
        "        print(f\"→ thresh={thr[idx]:.2f} gives P={prec[idx]:.2f}, R={rec[idx]:.2f}\")\n"
      ],
      "metadata": {
        "colab": {
          "base_uri": "https://localhost:8080/"
        },
        "id": "Sl-3r2g4OIa1",
        "outputId": "630cb03b-a14d-4873-9bf2-114ffdd029f1"
      },
      "execution_count": 19,
      "outputs": [
        {
          "output_type": "stream",
          "name": "stdout",
          "text": [
            "\n",
            "=== RF (balanced) ===\n",
            "Val ROC-AUC: 0.9725952949867032\n",
            "              precision    recall  f1-score   support\n",
            "\n",
            "           0      0.995     0.996     0.996    211212\n",
            "           1      0.753     0.712     0.732      3483\n",
            "\n",
            "    accuracy                          0.992    214695\n",
            "   macro avg      0.874     0.854     0.864    214695\n",
            "weighted avg      0.991     0.992     0.991    214695\n",
            "\n",
            "→ thresh=0.27 gives P=0.20, R=0.81\n",
            "→ thresh=0.41 gives P=0.50, R=0.75\n",
            "→ thresh=0.53 gives P=0.80, R=0.70\n",
            "\n",
            "=== HistGB ===\n",
            "Val ROC-AUC: 0.9687517224530625\n",
            "              precision    recall  f1-score   support\n",
            "\n",
            "           0      0.995     0.997     0.996    211212\n",
            "           1      0.813     0.689     0.746      3483\n",
            "\n",
            "    accuracy                          0.992    214695\n",
            "   macro avg      0.904     0.843     0.871    214695\n",
            "weighted avg      0.992     0.992     0.992    214695\n",
            "\n",
            "→ thresh=0.02 gives P=0.20, R=0.84\n",
            "→ thresh=0.21 gives P=0.50, R=0.71\n",
            "→ thresh=0.42 gives P=0.81, R=0.69\n",
            "\n",
            "=== BalancedRF ===\n",
            "Val ROC-AUC: 0.9737357516004769\n",
            "              precision    recall  f1-score   support\n",
            "\n",
            "           0      0.995     0.996     0.996    211212\n",
            "           1      0.752     0.715     0.733      3483\n",
            "\n",
            "    accuracy                          0.992    214695\n",
            "   macro avg      0.873     0.856     0.864    214695\n",
            "weighted avg      0.991     0.992     0.991    214695\n",
            "\n",
            "→ thresh=0.23 gives P=0.21, R=0.83\n",
            "→ thresh=0.40 gives P=0.50, R=0.75\n",
            "→ thresh=0.57 gives P=0.80, R=0.70\n",
            "\n",
            "=== XGBoost ===\n"
          ]
        },
        {
          "output_type": "stream",
          "name": "stderr",
          "text": [
            "/usr/local/lib/python3.11/dist-packages/xgboost/core.py:158: UserWarning: [15:34:11] WARNING: /workspace/src/learner.cc:740: \n",
            "Parameters: { \"use_label_encoder\" } are not used.\n",
            "\n",
            "  warnings.warn(smsg, UserWarning)\n"
          ]
        },
        {
          "output_type": "stream",
          "name": "stdout",
          "text": [
            "Val ROC-AUC: 0.9622447219552343\n",
            "              precision    recall  f1-score   support\n",
            "\n",
            "           0      0.995     0.996     0.996    211212\n",
            "           1      0.762     0.712     0.736      3483\n",
            "\n",
            "    accuracy                          0.992    214695\n",
            "   macro avg      0.879     0.854     0.866    214695\n",
            "weighted avg      0.991     0.992     0.992    214695\n",
            "\n",
            "→ thresh=0.03 gives P=0.20, R=0.83\n",
            "→ thresh=0.17 gives P=0.50, R=0.77\n",
            "→ thresh=0.62 gives P=0.80, R=0.69\n"
          ]
        }
      ]
    },
    {
      "cell_type": "code",
      "source": [
        "# Balanced RF Pipe\n",
        "pipe_rf = models[\"RF (balanced)\"]\n",
        "\n",
        "# 1. Tune threshold on val\n",
        "probs_val = pipe_rf.predict_proba(X_val[features])[:,1]\n",
        "prec, rec, thr = precision_recall_curve(y_val, probs_val)\n",
        "\n",
        "# Pick threshold for ≥ 0.80 precision\n",
        "target_precision = 0.80\n",
        "idx = np.argmax(prec >= target_precision)\n",
        "rf_threshold = thr[idx]\n",
        "print(f\"RF threshold for ≥{target_precision:.2f} precision: {rf_threshold:.3f}\")\n",
        "print(f\"Precision={prec[idx]:.3f}, Recall={rec[idx]:.3f}\\n\")\n",
        "\n",
        "# 2. Evaluate on TEST\n",
        "probs_test = pipe_rf.predict_proba(X_test[features])[:,1]\n",
        "preds_test = (probs_test >= rf_threshold).astype(int)\n",
        "\n",
        "print(\"=== RF (balanced) Final Test Performance ===\")\n",
        "print(f\"ROC AUC: {roc_auc_score(y_test, probs_test):.3f}\\n\")\n",
        "print(\"Confusion Matrix:\")\n",
        "print(confusion_matrix(y_test, preds_test), \"\\n\")\n",
        "print(\"Classification Report:\")\n",
        "print(classification_report(y_test, preds_test, digits=3))\n"
      ],
      "metadata": {
        "colab": {
          "base_uri": "https://localhost:8080/"
        },
        "id": "cUlXtawJOL6M",
        "outputId": "e02948aa-18f1-491a-d090-c1fb255d8142"
      },
      "execution_count": 20,
      "outputs": [
        {
          "output_type": "stream",
          "name": "stderr",
          "text": [
            "/usr/local/lib/python3.11/dist-packages/sklearn/utils/validation.py:2732: UserWarning: X has feature names, but RandomForestClassifier was fitted without feature names\n",
            "  warnings.warn(\n"
          ]
        },
        {
          "output_type": "stream",
          "name": "stdout",
          "text": [
            "RF threshold for ≥0.80 precision: 0.526\n",
            "Precision=0.800, Recall=0.702\n",
            "\n"
          ]
        },
        {
          "output_type": "stream",
          "name": "stderr",
          "text": [
            "/usr/local/lib/python3.11/dist-packages/sklearn/utils/validation.py:2732: UserWarning: X has feature names, but RandomForestClassifier was fitted without feature names\n",
            "  warnings.warn(\n"
          ]
        },
        {
          "output_type": "stream",
          "name": "stdout",
          "text": [
            "=== RF (balanced) Final Test Performance ===\n",
            "ROC AUC: 0.964\n",
            "\n",
            "Confusion Matrix:\n",
            "[[210952    357]\n",
            " [   999   2262]] \n",
            "\n",
            "Classification Report:\n",
            "              precision    recall  f1-score   support\n",
            "\n",
            "           0      0.995     0.998     0.997    211309\n",
            "           1      0.864     0.694     0.769      3261\n",
            "\n",
            "    accuracy                          0.994    214570\n",
            "   macro avg      0.929     0.846     0.883    214570\n",
            "weighted avg      0.993     0.994     0.993    214570\n",
            "\n"
          ]
        }
      ]
    },
    {
      "cell_type": "code",
      "source": [
        "# XGboost Pipe\n",
        "pipe_xg = models[\"XGBoost\"]\n",
        "\n",
        "# 1.Tune threshold on val\n",
        "probs_val = pipe_xg.predict_proba(X_val[features])[:,1]\n",
        "\n",
        "# 2. precision/recall curve\n",
        "prec, rec, thr = precision_recall_curve(y_val, probs_val)\n",
        "\n",
        "# pick the threshold that first achieves >= 0.8 precision\n",
        "target_precision = 0.80\n",
        "idx = np.argmax(prec >= target_precision)\n",
        "tuned_threshold = thr[idx]\n",
        "print(f\"Chosen threshold for ≥{target_precision:.2f} precision: {tuned_threshold:.3f}\")\n",
        "print(f\"Precision={prec[idx]:.3f}, Recall={rec[idx]:.3f} at that threshold\\n\")\n",
        "\n",
        "# 3. Evaluate on test set\n",
        "probs_test = pipe_xg.predict_proba(X_test[features])[:,1]\n",
        "preds_test = (probs_test >= tuned_threshold).astype(int)\n",
        "\n",
        "print(\"=== Final Test Performance ===\")\n",
        "print(f\"ROC AUC: {roc_auc_score(y_test, probs_test):.3f}\\n\")\n",
        "print(\"Confusion Matrix:\")\n",
        "print(confusion_matrix(y_test, preds_test), \"\\n\")\n",
        "print(\"Classification Report:\")\n",
        "print(classification_report(y_test, preds_test, digits=3))"
      ],
      "metadata": {
        "colab": {
          "base_uri": "https://localhost:8080/"
        },
        "id": "HVgOczGPPmoq",
        "outputId": "74f64f6e-9f48-4e08-90b7-4fa7bf469152"
      },
      "execution_count": 21,
      "outputs": [
        {
          "output_type": "stream",
          "name": "stdout",
          "text": [
            "Chosen threshold for ≥0.80 precision: 0.624\n",
            "Precision=0.800, Recall=0.693 at that threshold\n",
            "\n",
            "=== Final Test Performance ===\n",
            "ROC AUC: 0.946\n",
            "\n",
            "Confusion Matrix:\n",
            "[[211046    263]\n",
            " [   949   2312]] \n",
            "\n",
            "Classification Report:\n",
            "              precision    recall  f1-score   support\n",
            "\n",
            "           0      0.996     0.999     0.997    211309\n",
            "           1      0.898     0.709     0.792      3261\n",
            "\n",
            "    accuracy                          0.994    214570\n",
            "   macro avg      0.947     0.854     0.895    214570\n",
            "weighted avg      0.994     0.994     0.994    214570\n",
            "\n"
          ]
        }
      ]
    },
    {
      "cell_type": "code",
      "source": [
        "estimators = models\n",
        "\n",
        "imps = {}\n",
        "for name, obj in estimators.items():\n",
        "    if hasattr(obj, \"named_steps\"):\n",
        "        step_names = list(obj.named_steps.keys())\n",
        "        clf = obj.named_steps[step_names[-1]]\n",
        "    else:\n",
        "        clf = obj\n",
        "\n",
        "    # importances\n",
        "    if hasattr(clf, \"feature_importances_\"):\n",
        "        imp = pd.Series(clf.feature_importances_, index=features)\n",
        "        imp = imp.sort_values(ascending=False)\n",
        "        imp.name = \"importance\"\n",
        "    elif hasattr(clf, \"coef_\"):\n",
        "        imp = pd.Series(clf.coef_[0], index=features).abs()\n",
        "        imp = imp.sort_values(ascending=False)\n",
        "        imp.name = \"abs_coef\"\n",
        "    else:\n",
        "        continue\n",
        "\n",
        "    imps[name] = imp\n",
        "\n",
        "topn = 10\n",
        "df_top = (\n",
        "    pd.concat([s.head(topn).rename(name) for name, s in imps.items()], axis=1)\n",
        ")\n",
        "\n",
        "print(df_top)\n",
        "#display(df_top.style.background_gradient(cmap=\"Blues\"))"
      ],
      "metadata": {
        "colab": {
          "base_uri": "https://localhost:8080/"
        },
        "id": "yJnQ-qXRPrdd",
        "outputId": "251b75ae-f920-4c95-9de4-ca78328f1e3f"
      },
      "execution_count": 23,
      "outputs": [
        {
          "output_type": "stream",
          "name": "stdout",
          "text": [
            "                    RF (balanced)  BalancedRF   XGBoost\n",
            "isAmazon                 0.226342    0.182502  0.792303\n",
            "isFBA                    0.108145    0.106827  0.016234\n",
            "avg_price_rank_60d       0.103587    0.084666       NaN\n",
            "avg_price_rank_14d       0.077706    0.069679       NaN\n",
            "avg_price_rank_30d       0.062987    0.068957       NaN\n",
            "avg_self_price_30d       0.053328    0.050642       NaN\n",
            "avg_self_price_14d       0.051836    0.049767       NaN\n",
            "price_rank               0.049069    0.052212  0.017047\n",
            "avg_self_price_60d       0.046209    0.049198       NaN\n",
            "price_diff               0.041816    0.067217  0.007572\n",
            "avg_asin_price_60d            NaN         NaN  0.034343\n",
            "cond_5                        NaN         NaN  0.014701\n",
            "num_competitors               NaN         NaN  0.014383\n",
            "cond_2                        NaN         NaN  0.009995\n",
            "cond_4                        NaN         NaN  0.009973\n",
            "price                         NaN         NaN  0.007907\n"
          ]
        }
      ]
    },
    {
      "cell_type": "markdown",
      "source": [
        "## Reduced Feature RF"
      ],
      "metadata": {
        "id": "SdF1lzr4gEim"
      }
    },
    {
      "cell_type": "code",
      "source": [
        "# Reduced feature list\n",
        "reduced_features = [\n",
        "    \"isAmazon\",\n",
        "    \"isFBA\",\n",
        "    \"avg_price_rank_60d\",\n",
        "    \"avg_price_rank_14d\",\n",
        "    \"avg_price_rank_30d\",\n",
        "    \"avg_self_price_30d\",\n",
        "    \"avg_self_price_14d\",\n",
        "    \"price_rank\",\n",
        "    \"avg_self_price_60d\",\n",
        "    \"price_diff\",\n",
        "]\n",
        "\n",
        "X_train_red = X_train[reduced_features]\n",
        "X_val_red   = X_val[reduced_features]\n",
        "X_test_red  = X_test[reduced_features]"
      ],
      "metadata": {
        "id": "aApF4FElgGZU"
      },
      "execution_count": 46,
      "outputs": []
    },
    {
      "cell_type": "code",
      "source": [
        "# Retrain the RF (balanced) pipeline\n",
        "pipe_red_rf = make_pipeline(\n",
        "    SimpleImputer(strategy=\"median\"),\n",
        "    RandomForestClassifier(\n",
        "        n_estimators=100,\n",
        "        max_depth=10,\n",
        "        class_weight=\"balanced\",\n",
        "        n_jobs=-1,\n",
        "        random_state=42\n",
        "    )\n",
        ")\n",
        "pipe_red_rf.fit(X_train_red, y_train)"
      ],
      "metadata": {
        "colab": {
          "base_uri": "https://localhost:8080/",
          "height": 157
        },
        "id": "6kTB08VYgQ7o",
        "outputId": "e90f08c9-6a7a-4138-81da-85b68b601f61"
      },
      "execution_count": 48,
      "outputs": [
        {
          "output_type": "execute_result",
          "data": {
            "text/plain": [
              "Pipeline(steps=[('simpleimputer', SimpleImputer(strategy='median')),\n",
              "                ('randomforestclassifier',\n",
              "                 RandomForestClassifier(class_weight='balanced', max_depth=10,\n",
              "                                        n_jobs=-1, random_state=42))])"
            ],
            "text/html": [
              "<style>#sk-container-id-1 {\n",
              "  /* Definition of color scheme common for light and dark mode */\n",
              "  --sklearn-color-text: #000;\n",
              "  --sklearn-color-text-muted: #666;\n",
              "  --sklearn-color-line: gray;\n",
              "  /* Definition of color scheme for unfitted estimators */\n",
              "  --sklearn-color-unfitted-level-0: #fff5e6;\n",
              "  --sklearn-color-unfitted-level-1: #f6e4d2;\n",
              "  --sklearn-color-unfitted-level-2: #ffe0b3;\n",
              "  --sklearn-color-unfitted-level-3: chocolate;\n",
              "  /* Definition of color scheme for fitted estimators */\n",
              "  --sklearn-color-fitted-level-0: #f0f8ff;\n",
              "  --sklearn-color-fitted-level-1: #d4ebff;\n",
              "  --sklearn-color-fitted-level-2: #b3dbfd;\n",
              "  --sklearn-color-fitted-level-3: cornflowerblue;\n",
              "\n",
              "  /* Specific color for light theme */\n",
              "  --sklearn-color-text-on-default-background: var(--sg-text-color, var(--theme-code-foreground, var(--jp-content-font-color1, black)));\n",
              "  --sklearn-color-background: var(--sg-background-color, var(--theme-background, var(--jp-layout-color0, white)));\n",
              "  --sklearn-color-border-box: var(--sg-text-color, var(--theme-code-foreground, var(--jp-content-font-color1, black)));\n",
              "  --sklearn-color-icon: #696969;\n",
              "\n",
              "  @media (prefers-color-scheme: dark) {\n",
              "    /* Redefinition of color scheme for dark theme */\n",
              "    --sklearn-color-text-on-default-background: var(--sg-text-color, var(--theme-code-foreground, var(--jp-content-font-color1, white)));\n",
              "    --sklearn-color-background: var(--sg-background-color, var(--theme-background, var(--jp-layout-color0, #111)));\n",
              "    --sklearn-color-border-box: var(--sg-text-color, var(--theme-code-foreground, var(--jp-content-font-color1, white)));\n",
              "    --sklearn-color-icon: #878787;\n",
              "  }\n",
              "}\n",
              "\n",
              "#sk-container-id-1 {\n",
              "  color: var(--sklearn-color-text);\n",
              "}\n",
              "\n",
              "#sk-container-id-1 pre {\n",
              "  padding: 0;\n",
              "}\n",
              "\n",
              "#sk-container-id-1 input.sk-hidden--visually {\n",
              "  border: 0;\n",
              "  clip: rect(1px 1px 1px 1px);\n",
              "  clip: rect(1px, 1px, 1px, 1px);\n",
              "  height: 1px;\n",
              "  margin: -1px;\n",
              "  overflow: hidden;\n",
              "  padding: 0;\n",
              "  position: absolute;\n",
              "  width: 1px;\n",
              "}\n",
              "\n",
              "#sk-container-id-1 div.sk-dashed-wrapped {\n",
              "  border: 1px dashed var(--sklearn-color-line);\n",
              "  margin: 0 0.4em 0.5em 0.4em;\n",
              "  box-sizing: border-box;\n",
              "  padding-bottom: 0.4em;\n",
              "  background-color: var(--sklearn-color-background);\n",
              "}\n",
              "\n",
              "#sk-container-id-1 div.sk-container {\n",
              "  /* jupyter's `normalize.less` sets `[hidden] { display: none; }`\n",
              "     but bootstrap.min.css set `[hidden] { display: none !important; }`\n",
              "     so we also need the `!important` here to be able to override the\n",
              "     default hidden behavior on the sphinx rendered scikit-learn.org.\n",
              "     See: https://github.com/scikit-learn/scikit-learn/issues/21755 */\n",
              "  display: inline-block !important;\n",
              "  position: relative;\n",
              "}\n",
              "\n",
              "#sk-container-id-1 div.sk-text-repr-fallback {\n",
              "  display: none;\n",
              "}\n",
              "\n",
              "div.sk-parallel-item,\n",
              "div.sk-serial,\n",
              "div.sk-item {\n",
              "  /* draw centered vertical line to link estimators */\n",
              "  background-image: linear-gradient(var(--sklearn-color-text-on-default-background), var(--sklearn-color-text-on-default-background));\n",
              "  background-size: 2px 100%;\n",
              "  background-repeat: no-repeat;\n",
              "  background-position: center center;\n",
              "}\n",
              "\n",
              "/* Parallel-specific style estimator block */\n",
              "\n",
              "#sk-container-id-1 div.sk-parallel-item::after {\n",
              "  content: \"\";\n",
              "  width: 100%;\n",
              "  border-bottom: 2px solid var(--sklearn-color-text-on-default-background);\n",
              "  flex-grow: 1;\n",
              "}\n",
              "\n",
              "#sk-container-id-1 div.sk-parallel {\n",
              "  display: flex;\n",
              "  align-items: stretch;\n",
              "  justify-content: center;\n",
              "  background-color: var(--sklearn-color-background);\n",
              "  position: relative;\n",
              "}\n",
              "\n",
              "#sk-container-id-1 div.sk-parallel-item {\n",
              "  display: flex;\n",
              "  flex-direction: column;\n",
              "}\n",
              "\n",
              "#sk-container-id-1 div.sk-parallel-item:first-child::after {\n",
              "  align-self: flex-end;\n",
              "  width: 50%;\n",
              "}\n",
              "\n",
              "#sk-container-id-1 div.sk-parallel-item:last-child::after {\n",
              "  align-self: flex-start;\n",
              "  width: 50%;\n",
              "}\n",
              "\n",
              "#sk-container-id-1 div.sk-parallel-item:only-child::after {\n",
              "  width: 0;\n",
              "}\n",
              "\n",
              "/* Serial-specific style estimator block */\n",
              "\n",
              "#sk-container-id-1 div.sk-serial {\n",
              "  display: flex;\n",
              "  flex-direction: column;\n",
              "  align-items: center;\n",
              "  background-color: var(--sklearn-color-background);\n",
              "  padding-right: 1em;\n",
              "  padding-left: 1em;\n",
              "}\n",
              "\n",
              "\n",
              "/* Toggleable style: style used for estimator/Pipeline/ColumnTransformer box that is\n",
              "clickable and can be expanded/collapsed.\n",
              "- Pipeline and ColumnTransformer use this feature and define the default style\n",
              "- Estimators will overwrite some part of the style using the `sk-estimator` class\n",
              "*/\n",
              "\n",
              "/* Pipeline and ColumnTransformer style (default) */\n",
              "\n",
              "#sk-container-id-1 div.sk-toggleable {\n",
              "  /* Default theme specific background. It is overwritten whether we have a\n",
              "  specific estimator or a Pipeline/ColumnTransformer */\n",
              "  background-color: var(--sklearn-color-background);\n",
              "}\n",
              "\n",
              "/* Toggleable label */\n",
              "#sk-container-id-1 label.sk-toggleable__label {\n",
              "  cursor: pointer;\n",
              "  display: flex;\n",
              "  width: 100%;\n",
              "  margin-bottom: 0;\n",
              "  padding: 0.5em;\n",
              "  box-sizing: border-box;\n",
              "  text-align: center;\n",
              "  align-items: start;\n",
              "  justify-content: space-between;\n",
              "  gap: 0.5em;\n",
              "}\n",
              "\n",
              "#sk-container-id-1 label.sk-toggleable__label .caption {\n",
              "  font-size: 0.6rem;\n",
              "  font-weight: lighter;\n",
              "  color: var(--sklearn-color-text-muted);\n",
              "}\n",
              "\n",
              "#sk-container-id-1 label.sk-toggleable__label-arrow:before {\n",
              "  /* Arrow on the left of the label */\n",
              "  content: \"▸\";\n",
              "  float: left;\n",
              "  margin-right: 0.25em;\n",
              "  color: var(--sklearn-color-icon);\n",
              "}\n",
              "\n",
              "#sk-container-id-1 label.sk-toggleable__label-arrow:hover:before {\n",
              "  color: var(--sklearn-color-text);\n",
              "}\n",
              "\n",
              "/* Toggleable content - dropdown */\n",
              "\n",
              "#sk-container-id-1 div.sk-toggleable__content {\n",
              "  max-height: 0;\n",
              "  max-width: 0;\n",
              "  overflow: hidden;\n",
              "  text-align: left;\n",
              "  /* unfitted */\n",
              "  background-color: var(--sklearn-color-unfitted-level-0);\n",
              "}\n",
              "\n",
              "#sk-container-id-1 div.sk-toggleable__content.fitted {\n",
              "  /* fitted */\n",
              "  background-color: var(--sklearn-color-fitted-level-0);\n",
              "}\n",
              "\n",
              "#sk-container-id-1 div.sk-toggleable__content pre {\n",
              "  margin: 0.2em;\n",
              "  border-radius: 0.25em;\n",
              "  color: var(--sklearn-color-text);\n",
              "  /* unfitted */\n",
              "  background-color: var(--sklearn-color-unfitted-level-0);\n",
              "}\n",
              "\n",
              "#sk-container-id-1 div.sk-toggleable__content.fitted pre {\n",
              "  /* unfitted */\n",
              "  background-color: var(--sklearn-color-fitted-level-0);\n",
              "}\n",
              "\n",
              "#sk-container-id-1 input.sk-toggleable__control:checked~div.sk-toggleable__content {\n",
              "  /* Expand drop-down */\n",
              "  max-height: 200px;\n",
              "  max-width: 100%;\n",
              "  overflow: auto;\n",
              "}\n",
              "\n",
              "#sk-container-id-1 input.sk-toggleable__control:checked~label.sk-toggleable__label-arrow:before {\n",
              "  content: \"▾\";\n",
              "}\n",
              "\n",
              "/* Pipeline/ColumnTransformer-specific style */\n",
              "\n",
              "#sk-container-id-1 div.sk-label input.sk-toggleable__control:checked~label.sk-toggleable__label {\n",
              "  color: var(--sklearn-color-text);\n",
              "  background-color: var(--sklearn-color-unfitted-level-2);\n",
              "}\n",
              "\n",
              "#sk-container-id-1 div.sk-label.fitted input.sk-toggleable__control:checked~label.sk-toggleable__label {\n",
              "  background-color: var(--sklearn-color-fitted-level-2);\n",
              "}\n",
              "\n",
              "/* Estimator-specific style */\n",
              "\n",
              "/* Colorize estimator box */\n",
              "#sk-container-id-1 div.sk-estimator input.sk-toggleable__control:checked~label.sk-toggleable__label {\n",
              "  /* unfitted */\n",
              "  background-color: var(--sklearn-color-unfitted-level-2);\n",
              "}\n",
              "\n",
              "#sk-container-id-1 div.sk-estimator.fitted input.sk-toggleable__control:checked~label.sk-toggleable__label {\n",
              "  /* fitted */\n",
              "  background-color: var(--sklearn-color-fitted-level-2);\n",
              "}\n",
              "\n",
              "#sk-container-id-1 div.sk-label label.sk-toggleable__label,\n",
              "#sk-container-id-1 div.sk-label label {\n",
              "  /* The background is the default theme color */\n",
              "  color: var(--sklearn-color-text-on-default-background);\n",
              "}\n",
              "\n",
              "/* On hover, darken the color of the background */\n",
              "#sk-container-id-1 div.sk-label:hover label.sk-toggleable__label {\n",
              "  color: var(--sklearn-color-text);\n",
              "  background-color: var(--sklearn-color-unfitted-level-2);\n",
              "}\n",
              "\n",
              "/* Label box, darken color on hover, fitted */\n",
              "#sk-container-id-1 div.sk-label.fitted:hover label.sk-toggleable__label.fitted {\n",
              "  color: var(--sklearn-color-text);\n",
              "  background-color: var(--sklearn-color-fitted-level-2);\n",
              "}\n",
              "\n",
              "/* Estimator label */\n",
              "\n",
              "#sk-container-id-1 div.sk-label label {\n",
              "  font-family: monospace;\n",
              "  font-weight: bold;\n",
              "  display: inline-block;\n",
              "  line-height: 1.2em;\n",
              "}\n",
              "\n",
              "#sk-container-id-1 div.sk-label-container {\n",
              "  text-align: center;\n",
              "}\n",
              "\n",
              "/* Estimator-specific */\n",
              "#sk-container-id-1 div.sk-estimator {\n",
              "  font-family: monospace;\n",
              "  border: 1px dotted var(--sklearn-color-border-box);\n",
              "  border-radius: 0.25em;\n",
              "  box-sizing: border-box;\n",
              "  margin-bottom: 0.5em;\n",
              "  /* unfitted */\n",
              "  background-color: var(--sklearn-color-unfitted-level-0);\n",
              "}\n",
              "\n",
              "#sk-container-id-1 div.sk-estimator.fitted {\n",
              "  /* fitted */\n",
              "  background-color: var(--sklearn-color-fitted-level-0);\n",
              "}\n",
              "\n",
              "/* on hover */\n",
              "#sk-container-id-1 div.sk-estimator:hover {\n",
              "  /* unfitted */\n",
              "  background-color: var(--sklearn-color-unfitted-level-2);\n",
              "}\n",
              "\n",
              "#sk-container-id-1 div.sk-estimator.fitted:hover {\n",
              "  /* fitted */\n",
              "  background-color: var(--sklearn-color-fitted-level-2);\n",
              "}\n",
              "\n",
              "/* Specification for estimator info (e.g. \"i\" and \"?\") */\n",
              "\n",
              "/* Common style for \"i\" and \"?\" */\n",
              "\n",
              ".sk-estimator-doc-link,\n",
              "a:link.sk-estimator-doc-link,\n",
              "a:visited.sk-estimator-doc-link {\n",
              "  float: right;\n",
              "  font-size: smaller;\n",
              "  line-height: 1em;\n",
              "  font-family: monospace;\n",
              "  background-color: var(--sklearn-color-background);\n",
              "  border-radius: 1em;\n",
              "  height: 1em;\n",
              "  width: 1em;\n",
              "  text-decoration: none !important;\n",
              "  margin-left: 0.5em;\n",
              "  text-align: center;\n",
              "  /* unfitted */\n",
              "  border: var(--sklearn-color-unfitted-level-1) 1pt solid;\n",
              "  color: var(--sklearn-color-unfitted-level-1);\n",
              "}\n",
              "\n",
              ".sk-estimator-doc-link.fitted,\n",
              "a:link.sk-estimator-doc-link.fitted,\n",
              "a:visited.sk-estimator-doc-link.fitted {\n",
              "  /* fitted */\n",
              "  border: var(--sklearn-color-fitted-level-1) 1pt solid;\n",
              "  color: var(--sklearn-color-fitted-level-1);\n",
              "}\n",
              "\n",
              "/* On hover */\n",
              "div.sk-estimator:hover .sk-estimator-doc-link:hover,\n",
              ".sk-estimator-doc-link:hover,\n",
              "div.sk-label-container:hover .sk-estimator-doc-link:hover,\n",
              ".sk-estimator-doc-link:hover {\n",
              "  /* unfitted */\n",
              "  background-color: var(--sklearn-color-unfitted-level-3);\n",
              "  color: var(--sklearn-color-background);\n",
              "  text-decoration: none;\n",
              "}\n",
              "\n",
              "div.sk-estimator.fitted:hover .sk-estimator-doc-link.fitted:hover,\n",
              ".sk-estimator-doc-link.fitted:hover,\n",
              "div.sk-label-container:hover .sk-estimator-doc-link.fitted:hover,\n",
              ".sk-estimator-doc-link.fitted:hover {\n",
              "  /* fitted */\n",
              "  background-color: var(--sklearn-color-fitted-level-3);\n",
              "  color: var(--sklearn-color-background);\n",
              "  text-decoration: none;\n",
              "}\n",
              "\n",
              "/* Span, style for the box shown on hovering the info icon */\n",
              ".sk-estimator-doc-link span {\n",
              "  display: none;\n",
              "  z-index: 9999;\n",
              "  position: relative;\n",
              "  font-weight: normal;\n",
              "  right: .2ex;\n",
              "  padding: .5ex;\n",
              "  margin: .5ex;\n",
              "  width: min-content;\n",
              "  min-width: 20ex;\n",
              "  max-width: 50ex;\n",
              "  color: var(--sklearn-color-text);\n",
              "  box-shadow: 2pt 2pt 4pt #999;\n",
              "  /* unfitted */\n",
              "  background: var(--sklearn-color-unfitted-level-0);\n",
              "  border: .5pt solid var(--sklearn-color-unfitted-level-3);\n",
              "}\n",
              "\n",
              ".sk-estimator-doc-link.fitted span {\n",
              "  /* fitted */\n",
              "  background: var(--sklearn-color-fitted-level-0);\n",
              "  border: var(--sklearn-color-fitted-level-3);\n",
              "}\n",
              "\n",
              ".sk-estimator-doc-link:hover span {\n",
              "  display: block;\n",
              "}\n",
              "\n",
              "/* \"?\"-specific style due to the `<a>` HTML tag */\n",
              "\n",
              "#sk-container-id-1 a.estimator_doc_link {\n",
              "  float: right;\n",
              "  font-size: 1rem;\n",
              "  line-height: 1em;\n",
              "  font-family: monospace;\n",
              "  background-color: var(--sklearn-color-background);\n",
              "  border-radius: 1rem;\n",
              "  height: 1rem;\n",
              "  width: 1rem;\n",
              "  text-decoration: none;\n",
              "  /* unfitted */\n",
              "  color: var(--sklearn-color-unfitted-level-1);\n",
              "  border: var(--sklearn-color-unfitted-level-1) 1pt solid;\n",
              "}\n",
              "\n",
              "#sk-container-id-1 a.estimator_doc_link.fitted {\n",
              "  /* fitted */\n",
              "  border: var(--sklearn-color-fitted-level-1) 1pt solid;\n",
              "  color: var(--sklearn-color-fitted-level-1);\n",
              "}\n",
              "\n",
              "/* On hover */\n",
              "#sk-container-id-1 a.estimator_doc_link:hover {\n",
              "  /* unfitted */\n",
              "  background-color: var(--sklearn-color-unfitted-level-3);\n",
              "  color: var(--sklearn-color-background);\n",
              "  text-decoration: none;\n",
              "}\n",
              "\n",
              "#sk-container-id-1 a.estimator_doc_link.fitted:hover {\n",
              "  /* fitted */\n",
              "  background-color: var(--sklearn-color-fitted-level-3);\n",
              "}\n",
              "</style><div id=\"sk-container-id-1\" class=\"sk-top-container\"><div class=\"sk-text-repr-fallback\"><pre>Pipeline(steps=[(&#x27;simpleimputer&#x27;, SimpleImputer(strategy=&#x27;median&#x27;)),\n",
              "                (&#x27;randomforestclassifier&#x27;,\n",
              "                 RandomForestClassifier(class_weight=&#x27;balanced&#x27;, max_depth=10,\n",
              "                                        n_jobs=-1, random_state=42))])</pre><b>In a Jupyter environment, please rerun this cell to show the HTML representation or trust the notebook. <br />On GitHub, the HTML representation is unable to render, please try loading this page with nbviewer.org.</b></div><div class=\"sk-container\" hidden><div class=\"sk-item sk-dashed-wrapped\"><div class=\"sk-label-container\"><div class=\"sk-label fitted sk-toggleable\"><input class=\"sk-toggleable__control sk-hidden--visually\" id=\"sk-estimator-id-1\" type=\"checkbox\" ><label for=\"sk-estimator-id-1\" class=\"sk-toggleable__label fitted sk-toggleable__label-arrow\"><div><div>Pipeline</div></div><div><a class=\"sk-estimator-doc-link fitted\" rel=\"noreferrer\" target=\"_blank\" href=\"https://scikit-learn.org/1.6/modules/generated/sklearn.pipeline.Pipeline.html\">?<span>Documentation for Pipeline</span></a><span class=\"sk-estimator-doc-link fitted\">i<span>Fitted</span></span></div></label><div class=\"sk-toggleable__content fitted\"><pre>Pipeline(steps=[(&#x27;simpleimputer&#x27;, SimpleImputer(strategy=&#x27;median&#x27;)),\n",
              "                (&#x27;randomforestclassifier&#x27;,\n",
              "                 RandomForestClassifier(class_weight=&#x27;balanced&#x27;, max_depth=10,\n",
              "                                        n_jobs=-1, random_state=42))])</pre></div> </div></div><div class=\"sk-serial\"><div class=\"sk-item\"><div class=\"sk-estimator fitted sk-toggleable\"><input class=\"sk-toggleable__control sk-hidden--visually\" id=\"sk-estimator-id-2\" type=\"checkbox\" ><label for=\"sk-estimator-id-2\" class=\"sk-toggleable__label fitted sk-toggleable__label-arrow\"><div><div>SimpleImputer</div></div><div><a class=\"sk-estimator-doc-link fitted\" rel=\"noreferrer\" target=\"_blank\" href=\"https://scikit-learn.org/1.6/modules/generated/sklearn.impute.SimpleImputer.html\">?<span>Documentation for SimpleImputer</span></a></div></label><div class=\"sk-toggleable__content fitted\"><pre>SimpleImputer(strategy=&#x27;median&#x27;)</pre></div> </div></div><div class=\"sk-item\"><div class=\"sk-estimator fitted sk-toggleable\"><input class=\"sk-toggleable__control sk-hidden--visually\" id=\"sk-estimator-id-3\" type=\"checkbox\" ><label for=\"sk-estimator-id-3\" class=\"sk-toggleable__label fitted sk-toggleable__label-arrow\"><div><div>RandomForestClassifier</div></div><div><a class=\"sk-estimator-doc-link fitted\" rel=\"noreferrer\" target=\"_blank\" href=\"https://scikit-learn.org/1.6/modules/generated/sklearn.ensemble.RandomForestClassifier.html\">?<span>Documentation for RandomForestClassifier</span></a></div></label><div class=\"sk-toggleable__content fitted\"><pre>RandomForestClassifier(class_weight=&#x27;balanced&#x27;, max_depth=10, n_jobs=-1,\n",
              "                       random_state=42)</pre></div> </div></div></div></div></div></div>"
            ]
          },
          "metadata": {},
          "execution_count": 48
        }
      ]
    },
    {
      "cell_type": "code",
      "source": [
        "# Re-tune threshold on VAL for ≥ 0.80 precision\n",
        "probs_val_red = pipe_red_rf.predict_proba(X_val_red)[:,1]\n",
        "prec, rec, thr = precision_recall_curve(y_val, probs_val_red)\n",
        "\n",
        "target_precision = 0.80\n",
        "idx = np.argmax(prec >= target_precision)\n",
        "rf_threshold_red = thr[idx]\n",
        "print(f\"Threshold for ≥{target_precision:.2f} precision: {rf_threshold_red:.3f}\")\n",
        "print(f\"Val Precision={prec[idx]:.3f}, Recall={rec[idx]:.3f}\\n\")\n",
        "\n",
        "# Evaluate on TEST using that threshold\n",
        "probs_test_red = pipe_red_rf.predict_proba(X_test_red)[:,1]\n",
        "preds_test_red = (probs_test_red >= rf_threshold_red).astype(int)\n",
        "\n",
        "print(\"=== Reduced-Feature RF Final Test Performance ===\")\n",
        "print(f\"ROC AUC: {roc_auc_score(y_test, probs_test_red):.3f}\\n\")\n",
        "print(\"Confusion Matrix:\")\n",
        "print(confusion_matrix(y_test, preds_test_red), \"\\n\")\n",
        "print(\"Classification Report:\")\n",
        "print(classification_report(y_test, preds_test_red, digits=3))"
      ],
      "metadata": {
        "colab": {
          "base_uri": "https://localhost:8080/"
        },
        "id": "2IjNtWA-gWvl",
        "outputId": "13af7727-24eb-47b9-bc14-90c072e62c75"
      },
      "execution_count": 50,
      "outputs": [
        {
          "output_type": "stream",
          "name": "stdout",
          "text": [
            "Threshold for ≥0.80 precision: 0.594\n",
            "Val Precision=0.800, Recall=0.686\n",
            "\n",
            "=== Reduced-Feature RF Final Test Performance ===\n",
            "ROC AUC: 0.953\n",
            "\n",
            "Confusion Matrix:\n",
            "[[210912    397]\n",
            " [  1008   2253]] \n",
            "\n",
            "Classification Report:\n",
            "              precision    recall  f1-score   support\n",
            "\n",
            "           0      0.995     0.998     0.997    211309\n",
            "           1      0.850     0.691     0.762      3261\n",
            "\n",
            "    accuracy                          0.993    214570\n",
            "   macro avg      0.923     0.845     0.879    214570\n",
            "weighted avg      0.993     0.993     0.993    214570\n",
            "\n"
          ]
        }
      ]
    },
    {
      "cell_type": "markdown",
      "source": [
        "## Saving Model"
      ],
      "metadata": {
        "id": "G12KpLSXbDa0"
      }
    },
    {
      "cell_type": "code",
      "source": [
        "import joblib\n",
        "\n",
        "joblib.dump(pipe_rf, '/content/drive/MyDrive/pipe_rf.joblib')\n",
        "print(\"✅ Saved RF pipeline!\")"
      ],
      "metadata": {
        "colab": {
          "base_uri": "https://localhost:8080/"
        },
        "id": "v9Pyk7JbbFGr",
        "outputId": "505d4e73-0d03-456f-b340-6963ddaebe30"
      },
      "execution_count": 43,
      "outputs": [
        {
          "output_type": "stream",
          "name": "stdout",
          "text": [
            "Drive already mounted at /content/drive; to attempt to forcibly remount, call drive.mount(\"/content/drive\", force_remount=True).\n",
            "✅ Saved RF pipeline!\n"
          ]
        }
      ]
    },
    {
      "cell_type": "code",
      "source": [
        "from google.colab import files\n",
        "files.download('pipe_rf.joblib')"
      ],
      "metadata": {
        "colab": {
          "base_uri": "https://localhost:8080/",
          "height": 17
        },
        "id": "z1hYZxmrbKht",
        "outputId": "9c9a9c83-121e-49b1-f378-aab3312e8893"
      },
      "execution_count": 45,
      "outputs": [
        {
          "output_type": "display_data",
          "data": {
            "text/plain": [
              "<IPython.core.display.Javascript object>"
            ],
            "application/javascript": [
              "\n",
              "    async function download(id, filename, size) {\n",
              "      if (!google.colab.kernel.accessAllowed) {\n",
              "        return;\n",
              "      }\n",
              "      const div = document.createElement('div');\n",
              "      const label = document.createElement('label');\n",
              "      label.textContent = `Downloading \"${filename}\": `;\n",
              "      div.appendChild(label);\n",
              "      const progress = document.createElement('progress');\n",
              "      progress.max = size;\n",
              "      div.appendChild(progress);\n",
              "      document.body.appendChild(div);\n",
              "\n",
              "      const buffers = [];\n",
              "      let downloaded = 0;\n",
              "\n",
              "      const channel = await google.colab.kernel.comms.open(id);\n",
              "      // Send a message to notify the kernel that we're ready.\n",
              "      channel.send({})\n",
              "\n",
              "      for await (const message of channel.messages) {\n",
              "        // Send a message to notify the kernel that we're ready.\n",
              "        channel.send({})\n",
              "        if (message.buffers) {\n",
              "          for (const buffer of message.buffers) {\n",
              "            buffers.push(buffer);\n",
              "            downloaded += buffer.byteLength;\n",
              "            progress.value = downloaded;\n",
              "          }\n",
              "        }\n",
              "      }\n",
              "      const blob = new Blob(buffers, {type: 'application/binary'});\n",
              "      const a = document.createElement('a');\n",
              "      a.href = window.URL.createObjectURL(blob);\n",
              "      a.download = filename;\n",
              "      div.appendChild(a);\n",
              "      a.click();\n",
              "      div.remove();\n",
              "    }\n",
              "  "
            ]
          },
          "metadata": {}
        },
        {
          "output_type": "display_data",
          "data": {
            "text/plain": [
              "<IPython.core.display.Javascript object>"
            ],
            "application/javascript": [
              "download(\"download_7466e93e-6613-41e6-9c71-7b38ec5300d9\", \"pipe_rf.joblib\", 6877145)"
            ]
          },
          "metadata": {}
        }
      ]
    },
    {
      "cell_type": "code",
      "source": [
        "joblib.dump(pipe_red_rf, '/content/drive/MyDrive/pipe_red_rf.joblib')\n",
        "print(\"✅ Saved Reduced RF pipeline!\")"
      ],
      "metadata": {
        "colab": {
          "base_uri": "https://localhost:8080/"
        },
        "id": "jX3z4ovdh_d2",
        "outputId": "3fbd7f19-f7bd-42d1-a159-f031e3f2e215"
      },
      "execution_count": 58,
      "outputs": [
        {
          "output_type": "stream",
          "name": "stdout",
          "text": [
            "✅ Saved Reduced RF pipeline!\n"
          ]
        }
      ]
    },
    {
      "cell_type": "markdown",
      "source": [
        "## Cross Validation"
      ],
      "metadata": {
        "id": "7IGMiVrBT_75"
      }
    },
    {
      "cell_type": "code",
      "source": [
        "from sklearn.model_selection import train_test_split, StratifiedKFold, cross_validate\n",
        "from sklearn.ensemble import RandomForestClassifier\n",
        "from sklearn.metrics import make_scorer, precision_score, recall_score, f1_score"
      ],
      "metadata": {
        "id": "_6NUG9bCUgQM"
      },
      "execution_count": 32,
      "outputs": []
    },
    {
      "cell_type": "code",
      "source": [
        "# 2) Define your RF (same hyper‐params as before)\n",
        "rf = RandomForestClassifier(\n",
        "    n_estimators=200,\n",
        "    class_weight='balanced',\n",
        "    random_state=42,\n",
        "    n_jobs=-1\n",
        ")\n",
        "\n",
        "# 3) Set up Stratified K-Fold on the **training** data\n",
        "cv = StratifiedKFold(n_splits=5, shuffle=True, random_state=42)\n",
        "\n",
        "# 4) Scorers\n",
        "scoring = {\n",
        "    'roc_auc': 'roc_auc',\n",
        "    'prec_1': make_scorer(precision_score, pos_label=1),\n",
        "    'rec_1':  make_scorer(recall_score,    pos_label=1),\n",
        "    'f1_1':   make_scorer(f1_score,        pos_label=1),\n",
        "}\n",
        "\n",
        "# 5) Cross-validate on TRAINING only\n",
        "cv_results = cross_validate(\n",
        "    rf,\n",
        "    X_train, y_train,\n",
        "    cv=cv,\n",
        "    scoring=scoring,\n",
        "    return_train_score=False\n",
        ")\n",
        "\n",
        "# 6) Report mean ± std on train folds\n",
        "for k,v in cv_results.items():\n",
        "    if k.startswith('test_'):\n",
        "        print(f\"{k:8s}: {v.mean():.3f} ± {v.std():.3f}\")"
      ],
      "metadata": {
        "colab": {
          "base_uri": "https://localhost:8080/"
        },
        "id": "oyDMXK0uUBm5",
        "outputId": "215acd76-1018-459c-f979-4cd415a68532"
      },
      "execution_count": 33,
      "outputs": [
        {
          "output_type": "stream",
          "name": "stdout",
          "text": [
            "test_roc_auc: 0.990 ± 0.001\n",
            "test_prec_1: 0.935 ± 0.005\n",
            "test_rec_1: 0.825 ± 0.005\n",
            "test_f1_1: 0.876 ± 0.003\n"
          ]
        }
      ]
    },
    {
      "cell_type": "markdown",
      "source": [
        "## Some Plotting"
      ],
      "metadata": {
        "id": "pOzxnjFvqPB0"
      }
    },
    {
      "cell_type": "code",
      "source": [
        "import matplotlib.pyplot as plt\n",
        "\n",
        "# Compute win rate per rank\n",
        "win_prob = (\n",
        "    df.groupby('price_rank')['hold_buybox']\n",
        "      .mean()\n",
        "      .loc[0:19]      # keep only ranks 0–19\n",
        "      .reset_index(name='win_rate')\n",
        ")\n",
        "win_prob['win_rate_pct'] = win_prob['win_rate'] * 100\n",
        "\n",
        "plt.figure(figsize=(8, 5))\n",
        "plt.plot(\n",
        "    win_prob['price_rank'],\n",
        "    win_prob['win_rate_pct'],\n",
        "    color='red',\n",
        "    linewidth=2,\n",
        "    marker='o',\n",
        "    markersize=4\n",
        ")\n",
        "plt.fill_between(\n",
        "    win_prob['price_rank'],\n",
        "    win_prob['win_rate_pct'],\n",
        "    color='red',\n",
        "    alpha=0.1\n",
        ")\n",
        "\n",
        "plt.xticks(range(0, 20, 1))\n",
        "plt.xlim(-0.5, 19.5)\n",
        "plt.ylim(0, win_prob['win_rate_pct'].max() * 1.1)\n",
        "plt.xlabel('Rank')\n",
        "plt.ylabel('Win Rate (%)')\n",
        "plt.title('Probability of Winning the Buy Box by Rank')\n",
        "plt.grid(which='major', linestyle='--', alpha=0.5)=\n",
        "plt.tight_layout()\n",
        "plt.show()\n"
      ],
      "metadata": {
        "colab": {
          "base_uri": "https://localhost:8080/",
          "height": 507
        },
        "id": "pPNp5UtaMo2T",
        "outputId": "ac3aebad-72ac-4b13-8b2c-aaf37fb6d7a3"
      },
      "execution_count": 25,
      "outputs": [
        {
          "output_type": "display_data",
          "data": {
            "text/plain": [
              "<Figure size 800x500 with 1 Axes>"
            ],
            "image/png": "[encoded data removed]"
          },
          "metadata": {}
        }
      ]
    },
    {
      "cell_type": "code",
      "source": [
        "# extract hour and weekday\n",
        "df['hour']    = df['time'].dt.hour\n",
        "df['weekday'] = df['time'].dt.weekday  # 0=Mon…6=Sun\n",
        "\n",
        "# pivot table of win‐rate\n",
        "pivot = df.pivot_table(\n",
        "    index='hour', columns='weekday',\n",
        "    values='hold_buybox', aggfunc='mean'\n",
        ") * 100\n",
        "\n",
        "# heatmap\n",
        "import seaborn as sns\n",
        "plt.figure(figsize=(8,6))\n",
        "sns.heatmap(pivot, annot=True, fmt=\".1f\", cmap=\"Reds\")\n",
        "plt.xlabel(\"Weekday (0=Mon)\")\n",
        "plt.ylabel(\"Hour of Day\")\n",
        "plt.title(\"Buy Box Win Rate (%) by Hour & Weekday\")\n",
        "plt.show()\n"
      ],
      "metadata": {
        "colab": {
          "base_uri": "https://localhost:8080/",
          "height": 564
        },
        "id": "Qo23S4fxUhkU",
        "outputId": "0d473838-ffdf-4f4d-dd8a-c2a158dba4c9"
      },
      "execution_count": 26,
      "outputs": [
        {
          "output_type": "display_data",
          "data": {
            "text/plain": [
              "<Figure size 800x600 with 2 Axes>"
            ],
            "image/png": "[encoded data removed]"
          },
          "metadata": {}
        }
      ]
    },
    {
      "cell_type": "code",
      "source": [
        "plt.figure(figsize=(6,4))\n",
        "sns.kdeplot(df.loc[df.hold_buybox==1,'num_competitors'], label='Win')\n",
        "sns.kdeplot(df.loc[df.hold_buybox==0,'num_competitors'], label='Lose')\n",
        "plt.xlabel(\"Number of Competitors\")\n",
        "plt.ylabel(\"Density\")\n",
        "plt.title(\"Competitor Count: Winners vs. Losers\")\n",
        "plt.legend()\n",
        "plt.show()\n"
      ],
      "metadata": {
        "colab": {
          "base_uri": "https://localhost:8080/",
          "height": 410
        },
        "id": "S8xzQroVUsQV",
        "outputId": "780be5b9-fbdf-42c8-c0b5-e73e39278412"
      },
      "execution_count": 29,
      "outputs": [
        {
          "output_type": "display_data",
          "data": {
            "text/plain": [
              "<Figure size 600x400 with 1 Axes>"
            ],
            "image/png": "[encoded data removed]"
          },
          "metadata": {}
        }
      ]
    },
    {
      "cell_type": "code",
      "source": [
        "ts = df.set_index('time').resample('W').agg({\n",
        "  'hold_buybox':'mean',\n",
        "  'price':'median',\n",
        "  'num_competitors':'mean'\n",
        "})\n",
        "fig, ax = plt.subplots(3,1, figsize=(10,8), sharex=True)\n",
        "ts['hold_buybox'].plot(ax=ax[0], color='salmon')\n",
        "ax[0].set_ylabel(\"Win Rate\")\n",
        "ts['price'].plot(ax=ax[1], color='steelblue')\n",
        "ax[1].set_ylabel(\"Median Price\")\n",
        "ts['num_competitors'].plot(ax=ax[2], color='forestgreen')\n",
        "ax[2].set_ylabel(\"Avg #Competitors\")\n",
        "plt.xlabel(\"Time\")\n",
        "plt.tight_layout()\n",
        "plt.show()\n"
      ],
      "metadata": {
        "colab": {
          "base_uri": "https://localhost:8080/",
          "height": 807
        },
        "id": "r333BWnWVODp",
        "outputId": "20013a3d-e875-4ad8-9386-b8830e9cef30"
      },
      "execution_count": 31,
      "outputs": [
        {
          "output_type": "display_data",
          "data": {
            "text/plain": [
              "<Figure size 1000x800 with 3 Axes>"
            ],
            "image/png": "[encoded data removed]"
          },
          "metadata": {}
        }
      ]
    },
    {
      "cell_type": "markdown",
      "source": [
        "## Remove is Amazon"
      ],
      "metadata": {
        "id": "T0QCvC5_P2uJ"
      }
    },
    {
      "cell_type": "code",
      "source": [
        "features_no_az = [f for f in features if f != 'isAmazon']"
      ],
      "metadata": {
        "id": "N2zY3ycGP1Ci"
      },
      "execution_count": 22,
      "outputs": []
    },
    {
      "cell_type": "code",
      "source": [
        "# 2) Prepare your train/val/test splits exactly as before,\n",
        "#    but now use features_no_az instead of features_with_lags:\n",
        "X_train_n = X_train[features_no_az]\n",
        "X_test_n  = X_test[features_no_az]\n",
        "y_train_n = y_train\n",
        "y_test_n  = y_test"
      ],
      "metadata": {
        "id": "Rud2qTJPP62s"
      },
      "execution_count": 23,
      "outputs": []
    },
    {
      "cell_type": "code",
      "source": [
        "# 3) Re-instantiate your models\n",
        "models = {\n",
        "    \"RF (balanced)\": RandomForestClassifier(\n",
        "        n_estimators=100,\n",
        "        max_depth=10,\n",
        "        class_weight='balanced',\n",
        "        n_jobs=-1,\n",
        "        random_state=42\n",
        "    ),\n",
        "    \"XGBoost\": XGBClassifier(\n",
        "        n_estimators=200,\n",
        "        max_depth=6,\n",
        "        scale_pos_weight=(y_train_n==0).sum()/(y_train_n==1).sum(),\n",
        "        use_label_encoder=False,\n",
        "        eval_metric='auc',\n",
        "        n_jobs=-1,\n",
        "        random_state=42\n",
        "    )\n",
        "}\n",
        "\n",
        "# 4) Fit & evaluate\n",
        "for name, clf in models.items():\n",
        "    clf.fit(X_train_n, y_train_n)\n",
        "    probs = clf.predict_proba(X_test_n)[:,1]\n",
        "    preds = (probs >= 0.5).astype(int)   # or re-tune your threshold here\n",
        "    print(f\"=== {name} ===\")\n",
        "    print(f\"ROC AUC: {roc_auc_score(y_test_n, probs):.3f}\")\n",
        "    print(classification_report(y_test_n, preds, digits=3))\n",
        "    print()"
      ],
      "metadata": {
        "colab": {
          "base_uri": "https://localhost:8080/"
        },
        "id": "89KSpX_TP8aO",
        "outputId": "5131e4e6-5f29-411a-c5bf-959ca3384f60"
      },
      "execution_count": 24,
      "outputs": [
        {
          "output_type": "stream",
          "name": "stdout",
          "text": [
            "=== RF (balanced) ===\n",
            "ROC AUC: 0.956\n",
            "              precision    recall  f1-score   support\n",
            "\n",
            "           0      0.995     0.988     0.992    211309\n",
            "           1      0.480     0.699     0.569      3261\n",
            "\n",
            "    accuracy                          0.984    214570\n",
            "   macro avg      0.738     0.843     0.781    214570\n",
            "weighted avg      0.987     0.984     0.985    214570\n",
            "\n",
            "\n"
          ]
        },
        {
          "output_type": "stream",
          "name": "stderr",
          "text": [
            "/usr/local/lib/python3.11/dist-packages/xgboost/core.py:158: UserWarning: [21:16:44] WARNING: /workspace/src/learner.cc:740: \n",
            "Parameters: { \"use_label_encoder\" } are not used.\n",
            "\n",
            "  warnings.warn(smsg, UserWarning)\n"
          ]
        },
        {
          "output_type": "stream",
          "name": "stdout",
          "text": [
            "=== XGBoost ===\n",
            "ROC AUC: 0.946\n",
            "              precision    recall  f1-score   support\n",
            "\n",
            "           0      0.995     0.994     0.994    211309\n",
            "           1      0.619     0.666     0.641      3261\n",
            "\n",
            "    accuracy                          0.989    214570\n",
            "   macro avg      0.807     0.830     0.818    214570\n",
            "weighted avg      0.989     0.989     0.989    214570\n",
            "\n",
            "\n"
          ]
        }
      ]
    },
    {
      "cell_type": "code",
      "source": [
        "for name, clf in models.items():\n",
        "    fi = pd.Series(\n",
        "        clf.feature_importances_,\n",
        "        index=features_no_az,\n",
        "        name=\"importance\"\n",
        "    ).sort_values(ascending=False)\n",
        "    print(f\"=== {name} Feature Importances ===\")\n",
        "    print(fi.head(10))\n",
        "    print(\"\\n\" + \"-\"*60 + \"\\n\")\n"
      ],
      "metadata": {
        "colab": {
          "base_uri": "https://localhost:8080/"
        },
        "id": "VV4-G7ztQutT",
        "outputId": "eb79fd7d-05c6-43bc-ba6b-a8145cb076c0"
      },
      "execution_count": 26,
      "outputs": [
        {
          "output_type": "stream",
          "name": "stdout",
          "text": [
            "=== RF (balanced) Feature Importances ===\n",
            "isFBA                 0.186867\n",
            "avg_price_rank_60d    0.117139\n",
            "avg_price_rank_14d    0.086879\n",
            "price_diff            0.076629\n",
            "avg_self_price_30d    0.076110\n",
            "avg_price_rank_30d    0.067958\n",
            "avg_self_price_14d    0.064866\n",
            "price_rank            0.054331\n",
            "num_competitors       0.049409\n",
            "avg_self_price_60d    0.042533\n",
            "Name: importance, dtype: float64\n",
            "\n",
            "------------------------------------------------------------\n",
            "\n",
            "=== XGBoost Feature Importances ===\n",
            "isFBA                 0.483861\n",
            "price_diff            0.067151\n",
            "num_competitors       0.042515\n",
            "year                  0.041181\n",
            "avg_asin_price_14d    0.039678\n",
            "price_rank            0.036563\n",
            "avg_self_price_14d    0.035244\n",
            "price_ratio           0.031894\n",
            "avg_self_price_60d    0.025937\n",
            "cond_5                0.024620\n",
            "Name: importance, dtype: float32\n",
            "\n",
            "------------------------------------------------------------\n",
            "\n"
          ]
        }
      ]
    },
    {
      "cell_type": "markdown",
      "source": [
        "## RF + Lag Features"
      ],
      "metadata": {
        "id": "HUhtF2-1RUP7"
      }
    },
    {
      "cell_type": "code",
      "source": [
        "new_df = df.copy()"
      ],
      "metadata": {
        "id": "q3OmM8PGRWAX"
      },
      "execution_count": 32,
      "outputs": []
    },
    {
      "cell_type": "code",
      "source": [
        "new_df = new_df.sort_values(['asin','sellerId','time']).reset_index(drop=True)"
      ],
      "metadata": {
        "id": "areREPxVVxsA"
      },
      "execution_count": 33,
      "outputs": []
    },
    {
      "cell_type": "code",
      "source": [
        "to_lag = ['price_diff', 'price_ratio', 'hold_buybox']\n",
        "\n",
        "for col in to_lag:\n",
        "    new_df[f'{col}_lag1'] = (\n",
        "        new_df\n",
        "        .groupby(['asin','sellerId'])[col]\n",
        "        .shift(1)\n",
        "    )"
      ],
      "metadata": {
        "id": "8j0S_SuCVzml"
      },
      "execution_count": 34,
      "outputs": []
    },
    {
      "cell_type": "code",
      "source": [
        "# Fill NaNs\n",
        "new_df[['price_diff_lag1','price_ratio_lag1','hold_buybox_lag1']] = \\\n",
        "    new_df[['price_diff_lag1','price_ratio_lag1','hold_buybox_lag1']].fillna(0)"
      ],
      "metadata": {
        "id": "k4S5EYW3V2dX"
      },
      "execution_count": 35,
      "outputs": []
    },
    {
      "cell_type": "code",
      "source": [
        "new_df[['price_diff','price_diff_lag1',\n",
        "        'price_ratio','price_ratio_lag1',\n",
        "        'hold_buybox','hold_buybox_lag1']].head(5)"
      ],
      "metadata": {
        "colab": {
          "base_uri": "https://localhost:8080/",
          "height": 206
        },
        "id": "qmoIo5VLV4lf",
        "outputId": "7f773e63-d8d1-42e0-9059-b33f668694f3"
      },
      "execution_count": 36,
      "outputs": [
        {
          "output_type": "execute_result",
          "data": {
            "text/plain": [
              "   price_diff  price_diff_lag1  price_ratio  price_ratio_lag1  hold_buybox  \\\n",
              "0        2.77             0.00     1.246881          0.000000            1   \n",
              "1        2.77             2.77     1.246881          1.246881            0   \n",
              "2        2.77             2.77     1.246881          1.246881            0   \n",
              "3        2.77             2.77     1.246881          1.246881            0   \n",
              "4        2.77             2.77     1.246881          1.246881            0   \n",
              "\n",
              "   hold_buybox_lag1  \n",
              "0               0.0  \n",
              "1               1.0  \n",
              "2               0.0  \n",
              "3               0.0  \n",
              "4               0.0  "
            ],
            "text/html": [
              "\n",
              "  <div id=\"df-d5348c08-2819-4b82-9213-9906b4188ec7\" class=\"colab-df-container\">\n",
              "    <div>\n",
              "<style scoped>\n",
              "    .dataframe tbody tr th:only-of-type {\n",
              "        vertical-align: middle;\n",
              "    }\n",
              "\n",
              "    .dataframe tbody tr th {\n",
              "        vertical-align: top;\n",
              "    }\n",
              "\n",
              "    .dataframe thead th {\n",
              "        text-align: right;\n",
              "    }\n",
              "</style>\n",
              "<table border=\"1\" class=\"dataframe\">\n",
              "  <thead>\n",
              "    <tr style=\"text-align: right;\">\n",
              "      <th></th>\n",
              "      <th>price_diff</th>\n",
              "      <th>price_diff_lag1</th>\n",
              "      <th>price_ratio</th>\n",
              "      <th>price_ratio_lag1</th>\n",
              "      <th>hold_buybox</th>\n",
              "      <th>hold_buybox_lag1</th>\n",
              "    </tr>\n",
              "  </thead>\n",
              "  <tbody>\n",
              "    <tr>\n",
              "      <th>0</th>\n",
              "      <td>2.77</td>\n",
              "      <td>0.00</td>\n",
              "      <td>1.246881</td>\n",
              "      <td>0.000000</td>\n",
              "      <td>1</td>\n",
              "      <td>0.0</td>\n",
              "    </tr>\n",
              "    <tr>\n",
              "      <th>1</th>\n",
              "      <td>2.77</td>\n",
              "      <td>2.77</td>\n",
              "      <td>1.246881</td>\n",
              "      <td>1.246881</td>\n",
              "      <td>0</td>\n",
              "      <td>1.0</td>\n",
              "    </tr>\n",
              "    <tr>\n",
              "      <th>2</th>\n",
              "      <td>2.77</td>\n",
              "      <td>2.77</td>\n",
              "      <td>1.246881</td>\n",
              "      <td>1.246881</td>\n",
              "      <td>0</td>\n",
              "      <td>0.0</td>\n",
              "    </tr>\n",
              "    <tr>\n",
              "      <th>3</th>\n",
              "      <td>2.77</td>\n",
              "      <td>2.77</td>\n",
              "      <td>1.246881</td>\n",
              "      <td>1.246881</td>\n",
              "      <td>0</td>\n",
              "      <td>0.0</td>\n",
              "    </tr>\n",
              "    <tr>\n",
              "      <th>4</th>\n",
              "      <td>2.77</td>\n",
              "      <td>2.77</td>\n",
              "      <td>1.246881</td>\n",
              "      <td>1.246881</td>\n",
              "      <td>0</td>\n",
              "      <td>0.0</td>\n",
              "    </tr>\n",
              "  </tbody>\n",
              "</table>\n",
              "</div>\n",
              "    <div class=\"colab-df-buttons\">\n",
              "\n",
              "  <div class=\"colab-df-container\">\n",
              "    <button class=\"colab-df-convert\" onclick=\"convertToInteractive('df-d5348c08-2819-4b82-9213-9906b4188ec7')\"\n",
              "            title=\"Convert this dataframe to an interactive table.\"\n",
              "            style=\"display:none;\">\n",
              "\n",
              "  <svg xmlns=\"http://www.w3.org/2000/svg\" height=\"24px\" viewBox=\"0 -960 960 960\">\n",
              "    <path d=\"M120-120v-720h720v720H120Zm60-500h600v-160H180v160Zm220 220h160v-160H400v160Zm0 220h160v-160H400v160ZM180-400h160v-160H180v160Zm440 0h160v-160H620v160ZM180-180h160v-160H180v160Zm440 0h160v-160H620v160Z\"/>\n",
              "  </svg>\n",
              "    </button>\n",
              "\n",
              "  <style>\n",
              "    .colab-df-container {\n",
              "      display:flex;\n",
              "      gap: 12px;\n",
              "    }\n",
              "\n",
              "    .colab-df-convert {\n",
              "      background-color: #E8F0FE;\n",
              "      border: none;\n",
              "      border-radius: 50%;\n",
              "      cursor: pointer;\n",
              "      display: none;\n",
              "      fill: #1967D2;\n",
              "      height: 32px;\n",
              "      padding: 0 0 0 0;\n",
              "      width: 32px;\n",
              "    }\n",
              "\n",
              "    .colab-df-convert:hover {\n",
              "      background-color: #E2EBFA;\n",
              "      box-shadow: 0px 1px 2px rgba(60, 64, 67, 0.3), 0px 1px 3px 1px rgba(60, 64, 67, 0.15);\n",
              "      fill: #174EA6;\n",
              "    }\n",
              "\n",
              "    .colab-df-buttons div {\n",
              "      margin-bottom: 4px;\n",
              "    }\n",
              "\n",
              "    [theme=dark] .colab-df-convert {\n",
              "      background-color: #3B4455;\n",
              "      fill: #D2E3FC;\n",
              "    }\n",
              "\n",
              "    [theme=dark] .colab-df-convert:hover {\n",
              "      background-color: #434B5C;\n",
              "      box-shadow: 0px 1px 3px 1px rgba(0, 0, 0, 0.15);\n",
              "      filter: drop-shadow(0px 1px 2px rgba(0, 0, 0, 0.3));\n",
              "      fill: #FFFFFF;\n",
              "    }\n",
              "  </style>\n",
              "\n",
              "    <script>\n",
              "      const buttonEl =\n",
              "        document.querySelector('#df-d5348c08-2819-4b82-9213-9906b4188ec7 button.colab-df-convert');\n",
              "      buttonEl.style.display =\n",
              "        google.colab.kernel.accessAllowed ? 'block' : 'none';\n",
              "\n",
              "      async function convertToInteractive(key) {\n",
              "        const element = document.querySelector('#df-d5348c08-2819-4b82-9213-9906b4188ec7');\n",
              "        const dataTable =\n",
              "          await google.colab.kernel.invokeFunction('convertToInteractive',\n",
              "                                                    [key], {});\n",
              "        if (!dataTable) return;\n",
              "\n",
              "        const docLinkHtml = 'Like what you see? Visit the ' +\n",
              "          '<a target=\"_blank\" href=https://colab.research.google.com/notebooks/data_table.ipynb>data table notebook</a>'\n",
              "          + ' to learn more about interactive tables.';\n",
              "        element.innerHTML = '';\n",
              "        dataTable['output_type'] = 'display_data';\n",
              "        await google.colab.output.renderOutput(dataTable, element);\n",
              "        const docLink = document.createElement('div');\n",
              "        docLink.innerHTML = docLinkHtml;\n",
              "        element.appendChild(docLink);\n",
              "      }\n",
              "    </script>\n",
              "  </div>\n",
              "\n",
              "\n",
              "    <div id=\"df-abef40ad-6bb5-482a-a151-ca3003e2b01c\">\n",
              "      <button class=\"colab-df-quickchart\" onclick=\"quickchart('df-abef40ad-6bb5-482a-a151-ca3003e2b01c')\"\n",
              "                title=\"Suggest charts\"\n",
              "                style=\"display:none;\">\n",
              "\n",
              "<svg xmlns=\"http://www.w3.org/2000/svg\" height=\"24px\"viewBox=\"0 0 24 24\"\n",
              "     width=\"24px\">\n",
              "    <g>\n",
              "        <path d=\"M19 3H5c-1.1 0-2 .9-2 2v14c0 1.1.9 2 2 2h14c1.1 0 2-.9 2-2V5c0-1.1-.9-2-2-2zM9 17H7v-7h2v7zm4 0h-2V7h2v10zm4 0h-2v-4h2v4z\"/>\n",
              "    </g>\n",
              "</svg>\n",
              "      </button>\n",
              "\n",
              "<style>\n",
              "  .colab-df-quickchart {\n",
              "      --bg-color: #E8F0FE;\n",
              "      --fill-color: #1967D2;\n",
              "      --hover-bg-color: #E2EBFA;\n",
              "      --hover-fill-color: #174EA6;\n",
              "      --disabled-fill-color: #AAA;\n",
              "      --disabled-bg-color: #DDD;\n",
              "  }\n",
              "\n",
              "  [theme=dark] .colab-df-quickchart {\n",
              "      --bg-color: #3B4455;\n",
              "      --fill-color: #D2E3FC;\n",
              "      --hover-bg-color: #434B5C;\n",
              "      --hover-fill-color: #FFFFFF;\n",
              "      --disabled-bg-color: #3B4455;\n",
              "      --disabled-fill-color: #666;\n",
              "  }\n",
              "\n",
              "  .colab-df-quickchart {\n",
              "    background-color: var(--bg-color);\n",
              "    border: none;\n",
              "    border-radius: 50%;\n",
              "    cursor: pointer;\n",
              "    display: none;\n",
              "    fill: var(--fill-color);\n",
              "    height: 32px;\n",
              "    padding: 0;\n",
              "    width: 32px;\n",
              "  }\n",
              "\n",
              "  .colab-df-quickchart:hover {\n",
              "    background-color: var(--hover-bg-color);\n",
              "    box-shadow: 0 1px 2px rgba(60, 64, 67, 0.3), 0 1px 3px 1px rgba(60, 64, 67, 0.15);\n",
              "    fill: var(--button-hover-fill-color);\n",
              "  }\n",
              "\n",
              "  .colab-df-quickchart-complete:disabled,\n",
              "  .colab-df-quickchart-complete:disabled:hover {\n",
              "    background-color: var(--disabled-bg-color);\n",
              "    fill: var(--disabled-fill-color);\n",
              "    box-shadow: none;\n",
              "  }\n",
              "\n",
              "  .colab-df-spinner {\n",
              "    border: 2px solid var(--fill-color);\n",
              "    border-color: transparent;\n",
              "    border-bottom-color: var(--fill-color);\n",
              "    animation:\n",
              "      spin 1s steps(1) infinite;\n",
              "  }\n",
              "\n",
              "  @keyframes spin {\n",
              "    0% {\n",
              "      border-color: transparent;\n",
              "      border-bottom-color: var(--fill-color);\n",
              "      border-left-color: var(--fill-color);\n",
              "    }\n",
              "    20% {\n",
              "      border-color: transparent;\n",
              "      border-left-color: var(--fill-color);\n",
              "      border-top-color: var(--fill-color);\n",
              "    }\n",
              "    30% {\n",
              "      border-color: transparent;\n",
              "      border-left-color: var(--fill-color);\n",
              "      border-top-color: var(--fill-color);\n",
              "      border-right-color: var(--fill-color);\n",
              "    }\n",
              "    40% {\n",
              "      border-color: transparent;\n",
              "      border-right-color: var(--fill-color);\n",
              "      border-top-color: var(--fill-color);\n",
              "    }\n",
              "    60% {\n",
              "      border-color: transparent;\n",
              "      border-right-color: var(--fill-color);\n",
              "    }\n",
              "    80% {\n",
              "      border-color: transparent;\n",
              "      border-right-color: var(--fill-color);\n",
              "      border-bottom-color: var(--fill-color);\n",
              "    }\n",
              "    90% {\n",
              "      border-color: transparent;\n",
              "      border-bottom-color: var(--fill-color);\n",
              "    }\n",
              "  }\n",
              "</style>\n",
              "\n",
              "      <script>\n",
              "        async function quickchart(key) {\n",
              "          const quickchartButtonEl =\n",
              "            document.querySelector('#' + key + ' button');\n",
              "          quickchartButtonEl.disabled = true;  // To prevent multiple clicks.\n",
              "          quickchartButtonEl.classList.add('colab-df-spinner');\n",
              "          try {\n",
              "            const charts = await google.colab.kernel.invokeFunction(\n",
              "                'suggestCharts', [key], {});\n",
              "          } catch (error) {\n",
              "            console.error('Error during call to suggestCharts:', error);\n",
              "          }\n",
              "          quickchartButtonEl.classList.remove('colab-df-spinner');\n",
              "          quickchartButtonEl.classList.add('colab-df-quickchart-complete');\n",
              "        }\n",
              "        (() => {\n",
              "          let quickchartButtonEl =\n",
              "            document.querySelector('#df-abef40ad-6bb5-482a-a151-ca3003e2b01c button');\n",
              "          quickchartButtonEl.style.display =\n",
              "            google.colab.kernel.accessAllowed ? 'block' : 'none';\n",
              "        })();\n",
              "      </script>\n",
              "    </div>\n",
              "\n",
              "    </div>\n",
              "  </div>\n"
            ],
            "application/vnd.google.colaboratory.intrinsic+json": {
              "type": "dataframe",
              "summary": "{\n  \"name\": \"        'hold_buybox','hold_buybox_lag1']]\",\n  \"rows\": 5,\n  \"fields\": [\n    {\n      \"column\": \"price_diff\",\n      \"properties\": {\n        \"dtype\": \"number\",\n        \"std\": 0.0,\n        \"min\": 2.77,\n        \"max\": 2.77,\n        \"num_unique_values\": 1,\n        \"samples\": [\n          2.77\n        ],\n        \"semantic_type\": \"\",\n        \"description\": \"\"\n      }\n    },\n    {\n      \"column\": \"price_diff_lag1\",\n      \"properties\": {\n        \"dtype\": \"number\",\n        \"std\": 1.2387816595348837,\n        \"min\": 0.0,\n        \"max\": 2.77,\n        \"num_unique_values\": 2,\n        \"samples\": [\n          2.77\n        ],\n        \"semantic_type\": \"\",\n        \"description\": \"\"\n      }\n    },\n    {\n      \"column\": \"price_ratio\",\n      \"properties\": {\n        \"dtype\": \"number\",\n        \"std\": 0.0,\n        \"min\": 1.246880570409982,\n        \"max\": 1.246880570409982,\n        \"num_unique_values\": 1,\n        \"samples\": [\n          1.246880570409982\n        ],\n        \"semantic_type\": \"\",\n        \"description\": \"\"\n      }\n    },\n    {\n      \"column\": \"price_ratio_lag1\",\n      \"properties\": {\n        \"dtype\": \"number\",\n        \"std\": 0.5576219430520866,\n        \"min\": 0.0,\n        \"max\": 1.246880570409982,\n        \"num_unique_values\": 2,\n        \"samples\": [\n          1.246880570409982\n        ],\n        \"semantic_type\": \"\",\n        \"description\": \"\"\n      }\n    },\n    {\n      \"column\": \"hold_buybox\",\n      \"properties\": {\n        \"dtype\": \"number\",\n        \"std\": 0,\n        \"min\": 0,\n        \"max\": 1,\n        \"num_unique_values\": 2,\n        \"samples\": [\n          0\n        ],\n        \"semantic_type\": \"\",\n        \"description\": \"\"\n      }\n    },\n    {\n      \"column\": \"hold_buybox_lag1\",\n      \"properties\": {\n        \"dtype\": \"number\",\n        \"std\": 0.44721359549995804,\n        \"min\": 0.0,\n        \"max\": 1.0,\n        \"num_unique_values\": 2,\n        \"samples\": [\n          1.0\n        ],\n        \"semantic_type\": \"\",\n        \"description\": \"\"\n      }\n    }\n  ]\n}"
            }
          },
          "metadata": {},
          "execution_count": 36
        }
      ]
    },
    {
      "cell_type": "code",
      "source": [
        "lag_features = ['price_diff_lag1','price_ratio_lag1','hold_buybox_lag1']\n",
        "features_with_lags = features + lag_features"
      ],
      "metadata": {
        "id": "pr2FTQtvV6JX"
      },
      "execution_count": 37,
      "outputs": []
    },
    {
      "cell_type": "code",
      "source": [
        "# 2) Re-split data by time\n",
        "df_sorted_new = new_df.sort_values('time')\n",
        "train_end_new = df_sorted_new['time'].quantile(0.70)\n",
        "val_end_new   = df_sorted_new['time'].quantile(0.85)\n",
        "\n",
        "train_new = df_sorted_new[df_sorted_new['time'] <= train_end_new]\n",
        "val_new   = df_sorted_new[(df_sorted_new['time'] > train_end_new) & (df_sorted_new['time'] <= val_end_new)]\n",
        "test_new  = df_sorted_new[df_sorted_new['time'] > val_end_new]\n",
        "\n",
        "X_train_new, y_train_new = train_new[features_with_lags], train_new['hold_buybox']\n",
        "X_val_new,   y_val_new   = val_new[features_with_lags],   val_new['hold_buybox']\n",
        "X_test_new,  y_test_new  = test_new[features_with_lags],  test_new['hold_buybox']"
      ],
      "metadata": {
        "id": "JbS5YYAyV8By"
      },
      "execution_count": 38,
      "outputs": []
    },
    {
      "cell_type": "code",
      "source": [
        "# 3) Fit RandomForest (balanced)\n",
        "clf = RandomForestClassifier(\n",
        "    n_estimators=100,\n",
        "    max_depth=10,\n",
        "    class_weight='balanced',\n",
        "    n_jobs=-1,\n",
        "    random_state=42\n",
        ")\n",
        "clf.fit(X_train_new, y_train_new)\n",
        "\n",
        "# 4) Evaluate on test set\n",
        "probs_test_new = clf.predict_proba(X_test_new)[:,1]\n",
        "preds_test_new = clf.predict(X_test_new)\n",
        "\n",
        "\n",
        "print(\"=== Model Performance with Lag Features ===\")\n",
        "print(f\"ROC AUC: {roc_auc_score(y_test_new, probs_test_new):.3f}\\n\")\n",
        "print(classification_report(y_test_new, preds_test_new, digits=3))"
      ],
      "metadata": {
        "colab": {
          "base_uri": "https://localhost:8080/"
        },
        "id": "TsFLfVaUV9vu",
        "outputId": "32ae0f6a-b6be-4679-fce8-1d3cfe52b1de"
      },
      "execution_count": 39,
      "outputs": [
        {
          "output_type": "stream",
          "name": "stdout",
          "text": [
            "=== Model Performance with Lag Features ===\n",
            "ROC AUC: 0.979\n",
            "\n",
            "              precision    recall  f1-score   support\n",
            "\n",
            "           0      0.997     0.997     0.997    211309\n",
            "           1      0.824     0.795     0.809      3261\n",
            "\n",
            "    accuracy                          0.994    214570\n",
            "   macro avg      0.911     0.896     0.903    214570\n",
            "weighted avg      0.994     0.994     0.994    214570\n",
            "\n"
          ]
        }
      ]
    },
    {
      "cell_type": "code",
      "source": [
        "print(\"Confusion Matrix:\")\n",
        "print(confusion_matrix(y_test_new, preds_test_new), \"\\n\")"
      ],
      "metadata": {
        "colab": {
          "base_uri": "https://localhost:8080/"
        },
        "id": "KHt_Oz4qWAz9",
        "outputId": "29efa271-fb54-4324-92d1-0a1657011dc3"
      },
      "execution_count": 40,
      "outputs": [
        {
          "output_type": "stream",
          "name": "stdout",
          "text": [
            "Confusion Matrix:\n",
            "[[210756    553]\n",
            " [   668   2593]] \n",
            "\n"
          ]
        }
      ]
    },
    {
      "cell_type": "code",
      "source": [
        "feat_imp = pd.Series(\n",
        "    clf.feature_importances_,\n",
        "    index=features_with_lags,\n",
        "    name='importance'\n",
        ").sort_values(ascending=False)\n",
        "\n",
        "imps_df = feat_imp.reset_index().rename(columns={'index':'feature'})\n",
        "\n",
        "#tools.display_dataframe_to_user(\"Feature Importances with Lag Features\", imps_df)\n",
        "imps_df.head(10)"
      ],
      "metadata": {
        "colab": {
          "base_uri": "https://localhost:8080/",
          "height": 363
        },
        "id": "xCSMJFlXX-Wr",
        "outputId": "c5c9f4ea-e9df-44ee-d26f-47a78d7d1bad"
      },
      "execution_count": 41,
      "outputs": [
        {
          "output_type": "execute_result",
          "data": {
            "text/plain": [
              "              feature  importance\n",
              "0    hold_buybox_lag1    0.295650\n",
              "1            isAmazon    0.159678\n",
              "2  avg_price_rank_60d    0.073079\n",
              "3               isFBA    0.070392\n",
              "4  avg_price_rank_30d    0.055497\n",
              "5  avg_price_rank_14d    0.048368\n",
              "6  avg_self_price_14d    0.038707\n",
              "7          price_diff    0.034226\n",
              "8  avg_self_price_60d    0.029758\n",
              "9     price_diff_lag1    0.024898"
            ],
            "text/html": [
              "\n",
              "  <div id=\"df-b6c27fc5-7cbb-410c-a2ec-292cacc37edb\" class=\"colab-df-container\">\n",
              "    <div>\n",
              "<style scoped>\n",
              "    .dataframe tbody tr th:only-of-type {\n",
              "        vertical-align: middle;\n",
              "    }\n",
              "\n",
              "    .dataframe tbody tr th {\n",
              "        vertical-align: top;\n",
              "    }\n",
              "\n",
              "    .dataframe thead th {\n",
              "        text-align: right;\n",
              "    }\n",
              "</style>\n",
              "<table border=\"1\" class=\"dataframe\">\n",
              "  <thead>\n",
              "    <tr style=\"text-align: right;\">\n",
              "      <th></th>\n",
              "      <th>feature</th>\n",
              "      <th>importance</th>\n",
              "    </tr>\n",
              "  </thead>\n",
              "  <tbody>\n",
              "    <tr>\n",
              "      <th>0</th>\n",
              "      <td>hold_buybox_lag1</td>\n",
              "      <td>0.295650</td>\n",
              "    </tr>\n",
              "    <tr>\n",
              "      <th>1</th>\n",
              "      <td>isAmazon</td>\n",
              "      <td>0.159678</td>\n",
              "    </tr>\n",
              "    <tr>\n",
              "      <th>2</th>\n",
              "      <td>avg_price_rank_60d</td>\n",
              "      <td>0.073079</td>\n",
              "    </tr>\n",
              "    <tr>\n",
              "      <th>3</th>\n",
              "      <td>isFBA</td>\n",
              "      <td>0.070392</td>\n",
              "    </tr>\n",
              "    <tr>\n",
              "      <th>4</th>\n",
              "      <td>avg_price_rank_30d</td>\n",
              "      <td>0.055497</td>\n",
              "    </tr>\n",
              "    <tr>\n",
              "      <th>5</th>\n",
              "      <td>avg_price_rank_14d</td>\n",
              "      <td>0.048368</td>\n",
              "    </tr>\n",
              "    <tr>\n",
              "      <th>6</th>\n",
              "      <td>avg_self_price_14d</td>\n",
              "      <td>0.038707</td>\n",
              "    </tr>\n",
              "    <tr>\n",
              "      <th>7</th>\n",
              "      <td>price_diff</td>\n",
              "      <td>0.034226</td>\n",
              "    </tr>\n",
              "    <tr>\n",
              "      <th>8</th>\n",
              "      <td>avg_self_price_60d</td>\n",
              "      <td>0.029758</td>\n",
              "    </tr>\n",
              "    <tr>\n",
              "      <th>9</th>\n",
              "      <td>price_diff_lag1</td>\n",
              "      <td>0.024898</td>\n",
              "    </tr>\n",
              "  </tbody>\n",
              "</table>\n",
              "</div>\n",
              "    <div class=\"colab-df-buttons\">\n",
              "\n",
              "  <div class=\"colab-df-container\">\n",
              "    <button class=\"colab-df-convert\" onclick=\"convertToInteractive('df-b6c27fc5-7cbb-410c-a2ec-292cacc37edb')\"\n",
              "            title=\"Convert this dataframe to an interactive table.\"\n",
              "            style=\"display:none;\">\n",
              "\n",
              "  <svg xmlns=\"http://www.w3.org/2000/svg\" height=\"24px\" viewBox=\"0 -960 960 960\">\n",
              "    <path d=\"M120-120v-720h720v720H120Zm60-500h600v-160H180v160Zm220 220h160v-160H400v160Zm0 220h160v-160H400v160ZM180-400h160v-160H180v160Zm440 0h160v-160H620v160ZM180-180h160v-160H180v160Zm440 0h160v-160H620v160Z\"/>\n",
              "  </svg>\n",
              "    </button>\n",
              "\n",
              "  <style>\n",
              "    .colab-df-container {\n",
              "      display:flex;\n",
              "      gap: 12px;\n",
              "    }\n",
              "\n",
              "    .colab-df-convert {\n",
              "      background-color: #E8F0FE;\n",
              "      border: none;\n",
              "      border-radius: 50%;\n",
              "      cursor: pointer;\n",
              "      display: none;\n",
              "      fill: #1967D2;\n",
              "      height: 32px;\n",
              "      padding: 0 0 0 0;\n",
              "      width: 32px;\n",
              "    }\n",
              "\n",
              "    .colab-df-convert:hover {\n",
              "      background-color: #E2EBFA;\n",
              "      box-shadow: 0px 1px 2px rgba(60, 64, 67, 0.3), 0px 1px 3px 1px rgba(60, 64, 67, 0.15);\n",
              "      fill: #174EA6;\n",
              "    }\n",
              "\n",
              "    .colab-df-buttons div {\n",
              "      margin-bottom: 4px;\n",
              "    }\n",
              "\n",
              "    [theme=dark] .colab-df-convert {\n",
              "      background-color: #3B4455;\n",
              "      fill: #D2E3FC;\n",
              "    }\n",
              "\n",
              "    [theme=dark] .colab-df-convert:hover {\n",
              "      background-color: #434B5C;\n",
              "      box-shadow: 0px 1px 3px 1px rgba(0, 0, 0, 0.15);\n",
              "      filter: drop-shadow(0px 1px 2px rgba(0, 0, 0, 0.3));\n",
              "      fill: #FFFFFF;\n",
              "    }\n",
              "  </style>\n",
              "\n",
              "    <script>\n",
              "      const buttonEl =\n",
              "        document.querySelector('#df-b6c27fc5-7cbb-410c-a2ec-292cacc37edb button.colab-df-convert');\n",
              "      buttonEl.style.display =\n",
              "        google.colab.kernel.accessAllowed ? 'block' : 'none';\n",
              "\n",
              "      async function convertToInteractive(key) {\n",
              "        const element = document.querySelector('#df-b6c27fc5-7cbb-410c-a2ec-292cacc37edb');\n",
              "        const dataTable =\n",
              "          await google.colab.kernel.invokeFunction('convertToInteractive',\n",
              "                                                    [key], {});\n",
              "        if (!dataTable) return;\n",
              "\n",
              "        const docLinkHtml = 'Like what you see? Visit the ' +\n",
              "          '<a target=\"_blank\" href=https://colab.research.google.com/notebooks/data_table.ipynb>data table notebook</a>'\n",
              "          + ' to learn more about interactive tables.';\n",
              "        element.innerHTML = '';\n",
              "        dataTable['output_type'] = 'display_data';\n",
              "        await google.colab.output.renderOutput(dataTable, element);\n",
              "        const docLink = document.createElement('div');\n",
              "        docLink.innerHTML = docLinkHtml;\n",
              "        element.appendChild(docLink);\n",
              "      }\n",
              "    </script>\n",
              "  </div>\n",
              "\n",
              "\n",
              "    <div id=\"df-60cf33e0-cbc4-4b2a-a7ee-d2a756a66d42\">\n",
              "      <button class=\"colab-df-quickchart\" onclick=\"quickchart('df-60cf33e0-cbc4-4b2a-a7ee-d2a756a66d42')\"\n",
              "                title=\"Suggest charts\"\n",
              "                style=\"display:none;\">\n",
              "\n",
              "<svg xmlns=\"http://www.w3.org/2000/svg\" height=\"24px\"viewBox=\"0 0 24 24\"\n",
              "     width=\"24px\">\n",
              "    <g>\n",
              "        <path d=\"M19 3H5c-1.1 0-2 .9-2 2v14c0 1.1.9 2 2 2h14c1.1 0 2-.9 2-2V5c0-1.1-.9-2-2-2zM9 17H7v-7h2v7zm4 0h-2V7h2v10zm4 0h-2v-4h2v4z\"/>\n",
              "    </g>\n",
              "</svg>\n",
              "      </button>\n",
              "\n",
              "<style>\n",
              "  .colab-df-quickchart {\n",
              "      --bg-color: #E8F0FE;\n",
              "      --fill-color: #1967D2;\n",
              "      --hover-bg-color: #E2EBFA;\n",
              "      --hover-fill-color: #174EA6;\n",
              "      --disabled-fill-color: #AAA;\n",
              "      --disabled-bg-color: #DDD;\n",
              "  }\n",
              "\n",
              "  [theme=dark] .colab-df-quickchart {\n",
              "      --bg-color: #3B4455;\n",
              "      --fill-color: #D2E3FC;\n",
              "      --hover-bg-color: #434B5C;\n",
              "      --hover-fill-color: #FFFFFF;\n",
              "      --disabled-bg-color: #3B4455;\n",
              "      --disabled-fill-color: #666;\n",
              "  }\n",
              "\n",
              "  .colab-df-quickchart {\n",
              "    background-color: var(--bg-color);\n",
              "    border: none;\n",
              "    border-radius: 50%;\n",
              "    cursor: pointer;\n",
              "    display: none;\n",
              "    fill: var(--fill-color);\n",
              "    height: 32px;\n",
              "    padding: 0;\n",
              "    width: 32px;\n",
              "  }\n",
              "\n",
              "  .colab-df-quickchart:hover {\n",
              "    background-color: var(--hover-bg-color);\n",
              "    box-shadow: 0 1px 2px rgba(60, 64, 67, 0.3), 0 1px 3px 1px rgba(60, 64, 67, 0.15);\n",
              "    fill: var(--button-hover-fill-color);\n",
              "  }\n",
              "\n",
              "  .colab-df-quickchart-complete:disabled,\n",
              "  .colab-df-quickchart-complete:disabled:hover {\n",
              "    background-color: var(--disabled-bg-color);\n",
              "    fill: var(--disabled-fill-color);\n",
              "    box-shadow: none;\n",
              "  }\n",
              "\n",
              "  .colab-df-spinner {\n",
              "    border: 2px solid var(--fill-color);\n",
              "    border-color: transparent;\n",
              "    border-bottom-color: var(--fill-color);\n",
              "    animation:\n",
              "      spin 1s steps(1) infinite;\n",
              "  }\n",
              "\n",
              "  @keyframes spin {\n",
              "    0% {\n",
              "      border-color: transparent;\n",
              "      border-bottom-color: var(--fill-color);\n",
              "      border-left-color: var(--fill-color);\n",
              "    }\n",
              "    20% {\n",
              "      border-color: transparent;\n",
              "      border-left-color: var(--fill-color);\n",
              "      border-top-color: var(--fill-color);\n",
              "    }\n",
              "    30% {\n",
              "      border-color: transparent;\n",
              "      border-left-color: var(--fill-color);\n",
              "      border-top-color: var(--fill-color);\n",
              "      border-right-color: var(--fill-color);\n",
              "    }\n",
              "    40% {\n",
              "      border-color: transparent;\n",
              "      border-right-color: var(--fill-color);\n",
              "      border-top-color: var(--fill-color);\n",
              "    }\n",
              "    60% {\n",
              "      border-color: transparent;\n",
              "      border-right-color: var(--fill-color);\n",
              "    }\n",
              "    80% {\n",
              "      border-color: transparent;\n",
              "      border-right-color: var(--fill-color);\n",
              "      border-bottom-color: var(--fill-color);\n",
              "    }\n",
              "    90% {\n",
              "      border-color: transparent;\n",
              "      border-bottom-color: var(--fill-color);\n",
              "    }\n",
              "  }\n",
              "</style>\n",
              "\n",
              "      <script>\n",
              "        async function quickchart(key) {\n",
              "          const quickchartButtonEl =\n",
              "            document.querySelector('#' + key + ' button');\n",
              "          quickchartButtonEl.disabled = true;  // To prevent multiple clicks.\n",
              "          quickchartButtonEl.classList.add('colab-df-spinner');\n",
              "          try {\n",
              "            const charts = await google.colab.kernel.invokeFunction(\n",
              "                'suggestCharts', [key], {});\n",
              "          } catch (error) {\n",
              "            console.error('Error during call to suggestCharts:', error);\n",
              "          }\n",
              "          quickchartButtonEl.classList.remove('colab-df-spinner');\n",
              "          quickchartButtonEl.classList.add('colab-df-quickchart-complete');\n",
              "        }\n",
              "        (() => {\n",
              "          let quickchartButtonEl =\n",
              "            document.querySelector('#df-60cf33e0-cbc4-4b2a-a7ee-d2a756a66d42 button');\n",
              "          quickchartButtonEl.style.display =\n",
              "            google.colab.kernel.accessAllowed ? 'block' : 'none';\n",
              "        })();\n",
              "      </script>\n",
              "    </div>\n",
              "\n",
              "    </div>\n",
              "  </div>\n"
            ],
            "application/vnd.google.colaboratory.intrinsic+json": {
              "type": "dataframe",
              "variable_name": "imps_df",
              "summary": "{\n  \"name\": \"imps_df\",\n  \"rows\": 31,\n  \"fields\": [\n    {\n      \"column\": \"feature\",\n      \"properties\": {\n        \"dtype\": \"string\",\n        \"num_unique_values\": 31,\n        \"samples\": [\n          \"cond_2\",\n          \"num_competitors\",\n          \"cond_5\"\n        ],\n        \"semantic_type\": \"\",\n        \"description\": \"\"\n      }\n    },\n    {\n      \"column\": \"importance\",\n      \"properties\": {\n        \"dtype\": \"number\",\n        \"std\": 0.05874954951681914,\n        \"min\": 3.993454928844502e-06,\n        \"max\": 0.2956495273387247,\n        \"num_unique_values\": 31,\n        \"samples\": [\n          0.00016469943241498357,\n          0.017079713009915953,\n          0.0013578789537921408\n        ],\n        \"semantic_type\": \"\",\n        \"description\": \"\"\n      }\n    }\n  ]\n}"
            }
          },
          "metadata": {},
          "execution_count": 41
        }
      ]
    },
    {
      "cell_type": "markdown",
      "source": [
        "## Time Series"
      ],
      "metadata": {
        "id": "mKIMEDp_P5xx"
      }
    },
    {
      "cell_type": "code",
      "source": [
        "import matplotlib.pyplot as plt\n",
        "\n",
        "# 1) Parse your time column and sort\n",
        "df['time'] = pd.to_datetime(df['time'])\n",
        "df = df.sort_values('time')\n",
        "\n",
        "# 2) Compute inter‐arrival (delta) in seconds\n",
        "df['delta_s'] = df['time'].diff().dt.total_seconds()\n",
        "\n",
        "# 3) Quick summary of the gaps\n",
        "print(df['delta_s'].describe())\n",
        "\n",
        "# 6) Event rate over a regular grid (e.g. hourly)\n",
        "counts = df.set_index('time').resample('1H').size()\n",
        "plt.figure()\n",
        "counts.plot()\n",
        "plt.ylabel('Number of price changes')\n",
        "plt.title('Events per Hour')\n",
        "plt.show()\n"
      ],
      "metadata": {
        "colab": {
          "base_uri": "https://localhost:8080/",
          "height": 668
        },
        "id": "51xZJQUjP79S",
        "outputId": "d2f381ee-5092-4a44-eac8-19dc0a90c0e8"
      },
      "execution_count": 31,
      "outputs": [
        {
          "output_type": "stream",
          "name": "stdout",
          "text": [
            "count    1.431010e+06\n",
            "mean     1.720863e+02\n",
            "std      5.393274e+03\n",
            "min      0.000000e+00\n",
            "25%      0.000000e+00\n",
            "50%      0.000000e+00\n",
            "75%      0.000000e+00\n",
            "max      2.522400e+06\n",
            "Name: delta_s, dtype: float64\n"
          ]
        },
        {
          "output_type": "stream",
          "name": "stderr",
          "text": [
            "<ipython-input-31-9fd089d80d97>:14: FutureWarning: 'H' is deprecated and will be removed in a future version, please use 'h' instead.\n",
            "  counts = df.set_index('time').resample('1H').size()\n"
          ]
        },
        {
          "output_type": "display_data",
          "data": {
            "text/plain": [
              "<Figure size 640x480 with 1 Axes>"
            ],
            "image/png": "[encoded data removed]"
          },
          "metadata": {}
        }
      ]
    },
    {
      "cell_type": "code",
      "source": [
        "pct_zero = (df['delta_s']==0).mean() * 100\n",
        "print(f\"{pct_zero:.1f}% of all deltas are exactly 0 s\")"
      ],
      "metadata": {
        "colab": {
          "base_uri": "https://localhost:8080/"
        },
        "id": "7ehqsjegQKJm",
        "outputId": "03de11be-36e7-44bb-bf91-c725b651cd11"
      },
      "execution_count": 28,
      "outputs": [
        {
          "output_type": "stream",
          "name": "stdout",
          "text": [
            "98.1% of all deltas are exactly 0 s\n"
          ]
        }
      ]
    },
    {
      "cell_type": "code",
      "source": [
        "import numpy as np\n",
        "nonzero = df.loc[df['delta_s']>0, 'delta_s']\n",
        "plt.figure()\n",
        "plt.hist(nonzero, bins=np.logspace(0, np.log10(nonzero.max()), 50))\n",
        "plt.xscale('log')\n",
        "plt.xlabel('Inter-arrival gap (s), log scale')\n",
        "plt.ylabel('Count')\n",
        "plt.title('Histogram of non-zero gaps')\n",
        "plt.show()\n"
      ],
      "metadata": {
        "colab": {
          "base_uri": "https://localhost:8080/",
          "height": 476
        },
        "id": "c0d-vIIEQQIQ",
        "outputId": "b7bb954c-2975-4277-fbd9-0032db7e610f"
      },
      "execution_count": 29,
      "outputs": [
        {
          "output_type": "display_data",
          "data": {
            "text/plain": [
              "<Figure size 640x480 with 1 Axes>"
            ],
            "image/png": "[encoded data removed]"
          },
          "metadata": {}
        }
      ]
    }
  ]
}