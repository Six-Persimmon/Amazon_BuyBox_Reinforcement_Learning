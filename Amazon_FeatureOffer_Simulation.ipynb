{
 "cells": [
  {
   "cell_type": "markdown",
   "id": "31b60325",
   "metadata": {},
   "source": [
    "In this script I use the Amazon Featured Offer Demand system as the environment. We obtained this demand system using the high-frequency and large-scale data collected from the top 5000 best seller ASINs in the \"Books\" section from Amazon (by Nov. 2024). We assume that the Demand system is still in logit form, but the winner of the Buy Box can obtain an additional utility in the demand that makes it significantly larger compared with other counterparts. \n",
    "\n",
    "The Amazon Buy Box assignment system is built upon predictions from absorbed results."
   ]
  },
  {
   "cell_type": "markdown",
   "id": "f9fdfdfa",
   "metadata": {},
   "source": []
  }
 ],
 "metadata": {
  "kernelspec": {
   "display_name": "reinforcement_learning",
   "language": "python",
   "name": "python3"
  },
  "language_info": {
   "name": "python",
   "version": "3.12.8"
  }
 },
 "nbformat": 4,
 "nbformat_minor": 5
}
